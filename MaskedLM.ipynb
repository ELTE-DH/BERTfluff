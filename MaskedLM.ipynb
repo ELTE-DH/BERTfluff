{
 "cells": [
  {
   "cell_type": "markdown",
   "id": "4f64d5b0-687c-41c1-9a31-27c8de18ee3a",
   "metadata": {},
   "source": [
    "# Notebook for demoing Bert-based LMs"
   ]
  },
  {
   "cell_type": "markdown",
   "id": "3203cda3-3e27-4a90-983c-b310f9fa4c98",
   "metadata": {},
   "source": [
    "### Importing packages and loading tokenizer"
   ]
  },
  {
   "cell_type": "code",
   "execution_count": 24,
   "id": "e3eb70d3-0da6-4872-bfa8-f5f825c16d06",
   "metadata": {},
   "outputs": [],
   "source": [
    "import transformers\n",
    "import torch\n",
    "import torch.nn.functional as F\n",
    "from collections import Counter\n",
    "import csv"
   ]
  },
  {
   "cell_type": "code",
   "execution_count": 3,
   "id": "68318146-7714-4ce8-aa12-4dd65f62b8fb",
   "metadata": {},
   "outputs": [],
   "source": [
    "tokenizer = transformers.AutoTokenizer.from_pretrained('SZTAKI-HLT/hubert-base-cc', lowercase=True)"
   ]
  },
  {
   "cell_type": "code",
   "execution_count": 18,
   "id": "232b9cc8-28a6-4a81-865a-7c2d9b883976",
   "metadata": {},
   "outputs": [],
   "source": [
    "c = Counter()\n",
    "with open('100k_corp.spl') as infile, open('tokenized_100k_corp.spl', 'w') as outfile:\n",
    "    for line in infile:\n",
    "        if line[0] == '#':\n",
    "            continue\n",
    "        tokens = tokenizer(line.strip(), add_special_tokens=False)\n",
    "        for token in tokens['input_ids']:\n",
    "            c[tokenizer.decode(token)] += 1\n",
    "        outfile.write(tokenizer.decode(tokens['input_ids']))\n",
    "        outfile.write('\\n')"
   ]
  },
  {
   "cell_type": "code",
   "execution_count": 25,
   "id": "0f1b2e2f-5b05-4538-a33f-8a9a9578452f",
   "metadata": {},
   "outputs": [],
   "source": [
    "with open('freqs.csv', 'w') as outfile:\n",
    "    csv_writer = csv.writer(outfile)\n",
    "    for word, freq in sorted(c.items(), key = lambda x: x[1], reverse=True):\n",
    "        csv_writer.writerow([word, freq])"
   ]
  },
  {
   "cell_type": "markdown",
   "id": "b79ef8c7-965c-4a11-b36c-dd3d63b86603",
   "metadata": {},
   "source": [
    "## Single masked token prediction with BERT\n",
    "\n",
    "This example uses masked language modelling, that is \"given the entire sentence with some MASKs, what is the most likely word in MASK positions\". The prediction uses the entire sentence to guess, not only left-to-right information."
   ]
  },
  {
   "cell_type": "code",
   "execution_count": 4,
   "id": "e0443209-b985-4485-b4a5-fecb85dc81ad",
   "metadata": {},
   "outputs": [
    {
     "name": "stderr",
     "output_type": "stream",
     "text": [
      "Some weights of the model checkpoint at SZTAKI-HLT/hubert-base-cc were not used when initializing BertForMaskedLM: ['cls.seq_relationship.bias', 'cls.seq_relationship.weight']\n",
      "- This IS expected if you are initializing BertForMaskedLM from the checkpoint of a model trained on another task or with another architecture (e.g. initializing a BertForSequenceClassification model from a BertForPreTraining model).\n",
      "- This IS NOT expected if you are initializing BertForMaskedLM from the checkpoint of a model that you expect to be exactly identical (initializing a BertForSequenceClassification model from a BertForSequenceClassification model).\n"
     ]
    }
   ],
   "source": [
    "model = transformers.BertForMaskedLM.from_pretrained('SZTAKI-HLT/hubert-base-cc', return_dict=True)"
   ]
  },
  {
   "cell_type": "code",
   "execution_count": 5,
   "id": "e3e185be-1247-40d7-853f-337baeac1ae5",
   "metadata": {},
   "outputs": [
    {
     "name": "stdout",
     "output_type": "stream",
     "text": [
      "True\n"
     ]
    }
   ],
   "source": [
    "masked_word = 'szervezetek'\n",
    "print(masked_word in tokenizer.vocab)\n",
    "orig_text = f'Már 67 országban engedélyezték, de a nagy nyugati szervezetek még ellenállnak, hiába derül ki egyre több tanulmányból, hogy a Szputynik nyugati oltásoknál is hatásosabb.'\n",
    "text = orig_text.replace(masked_word, tokenizer.mask_token, 1)\n",
    "masked_word_length = len('szervezetek')"
   ]
  },
  {
   "cell_type": "code",
   "execution_count": 318,
   "id": "576ca57e-d469-49b3-95d7-c140f1ff62ac",
   "metadata": {},
   "outputs": [],
   "source": [
    "tokenized_text = tokenizer(text, return_tensors='pt')\n",
    "mask_index = torch.where(tokenized_text[\"input_ids\"][0] == tokenizer.mask_token_id)\n",
    "output = model(**tokenized_text)\n",
    "logits = output.logits\n",
    "softmax = F.softmax(logits, dim = -1)\n",
    "mask_word = softmax[0, mask_index, :]"
   ]
  },
  {
   "cell_type": "code",
   "execution_count": 319,
   "id": "90816ca5-386a-47ec-a280-651ed3824284",
   "metadata": {},
   "outputs": [],
   "source": [
    "def topn_fixed_length(mask_word, top_n, dim, word_length, tokenizer, check_word_length=True):\n",
    "    order = torch.argsort(mask_word, dim=1, descending=True)[0]\n",
    "    possible_words = []\n",
    "    for token_id in order:\n",
    "        token = tokenizer.decode([token_id])\n",
    "        if check_word_length:\n",
    "            if len(token) == word_length:\n",
    "                possible_words.append(token)\n",
    "        else:\n",
    "            possible_words.append(token)\n",
    "        if len(possible_words) == top_n:\n",
    "            break\n",
    "    return possible_words"
   ]
  },
  {
   "cell_type": "code",
   "execution_count": 320,
   "id": "4255ece3-704f-454c-8103-ba126631c1c5",
   "metadata": {},
   "outputs": [],
   "source": [
    "n = 10\n",
    "top_n = topn_fixed_length(mask_word, n, dim=1, word_length=masked_word_length, tokenizer=tokenizer, check_word_length=False)"
   ]
  },
  {
   "cell_type": "code",
   "execution_count": 321,
   "id": "fabff0b7-accd-4153-bb67-e3d3a68f73be",
   "metadata": {},
   "outputs": [
    {
     "name": "stdout",
     "output_type": "stream",
     "text": [
      "Már 67 országban engedélyezték, de a nagy nyugati _gyártók_ még ellenállnak, hiába derül ki egyre több tanulmányból, hogy a Szputynik nyugati oltásoknál is hatásosabb.\n",
      "Már 67 országban engedélyezték, de a nagy nyugati _országok_ még ellenállnak, hiába derül ki egyre több tanulmányból, hogy a Szputynik nyugati oltásoknál is hatásosabb.\n",
      "Már 67 országban engedélyezték, de a nagy nyugati _cégek_ még ellenállnak, hiába derül ki egyre több tanulmányból, hogy a Szputynik nyugati oltásoknál is hatásosabb.\n",
      "Már 67 országban engedélyezték, de a nagy nyugati _államok_ még ellenállnak, hiába derül ki egyre több tanulmányból, hogy a Szputynik nyugati oltásoknál is hatásosabb.\n",
      "Már 67 országban engedélyezték, de a nagy nyugati _##ak_ még ellenállnak, hiába derül ki egyre több tanulmányból, hogy a Szputynik nyugati oltásoknál is hatásosabb.\n",
      "Már 67 országban engedélyezték, de a nagy nyugati _vállalatok_ még ellenállnak, hiába derül ki egyre több tanulmányból, hogy a Szputynik nyugati oltásoknál is hatásosabb.\n",
      "Már 67 országban engedélyezték, de a nagy nyugati _tudósok_ még ellenállnak, hiába derül ki egyre több tanulmányból, hogy a Szputynik nyugati oltásoknál is hatásosabb.\n",
      "Már 67 országban engedélyezték, de a nagy nyugati _biztosítók_ még ellenállnak, hiába derül ki egyre több tanulmányból, hogy a Szputynik nyugati oltásoknál is hatásosabb.\n",
      "Már 67 országban engedélyezték, de a nagy nyugati _központok_ még ellenállnak, hiába derül ki egyre több tanulmányból, hogy a Szputynik nyugati oltásoknál is hatásosabb.\n",
      "Már 67 országban engedélyezték, de a nagy nyugati _egyetemek_ még ellenállnak, hiába derül ki egyre több tanulmányból, hogy a Szputynik nyugati oltásoknál is hatásosabb.\n"
     ]
    }
   ],
   "source": [
    "for token in top_n:\n",
    "    new_sentence = text.replace(tokenizer.mask_token, f'_{token}_')\n",
    "    print(new_sentence)"
   ]
  },
  {
   "cell_type": "markdown",
   "id": "7b3fd323-66a6-4b43-bf40-68794a103d86",
   "metadata": {},
   "source": [
    "## Multiple masked token prediction with BERT"
   ]
  },
  {
   "cell_type": "code",
   "execution_count": 220,
   "id": "6cabc693-e922-4ce7-82a6-410d6ebf8920",
   "metadata": {},
   "outputs": [
    {
     "name": "stderr",
     "output_type": "stream",
     "text": [
      "Some weights of the model checkpoint at SZTAKI-HLT/hubert-base-cc were not used when initializing BertForMaskedLM: ['cls.seq_relationship.bias', 'cls.seq_relationship.weight']\n",
      "- This IS expected if you are initializing BertForMaskedLM from the checkpoint of a model trained on another task or with another architecture (e.g. initializing a BertForSequenceClassification model from a BertForPreTraining model).\n",
      "- This IS NOT expected if you are initializing BertForMaskedLM from the checkpoint of a model that you expect to be exactly identical (initializing a BertForSequenceClassification model from a BertForSequenceClassification model).\n"
     ]
    }
   ],
   "source": [
    "tokenizer = transformers.AutoTokenizer.from_pretrained('SZTAKI-HLT/hubert-base-cc', lowercase=True)\n",
    "model = transformers.BertForMaskedLM.from_pretrained('SZTAKI-HLT/hubert-base-cc', return_dict=True)"
   ]
  },
  {
   "cell_type": "code",
   "execution_count": 268,
   "id": "712410b0-a59a-4d92-8d4b-abebc6e1db49",
   "metadata": {},
   "outputs": [],
   "source": [
    "words = ['országban', 'nagy', 'hiába', 'ellenállnak', 'hatásos']\n",
    "orig_text = f'Már 67 országban engedélyezték, de a nagy nyugati szervezetek még ellenállnak, hiába derül ki egyre több tanulmányból, hogy a Szputynik nyugati oltásoknál is hatásosabb.'\n",
    "text = orig_text\n",
    "for word in words:\n",
    "    text = text.replace(word, tokenizer.mask_token, 1)\n",
    "masked_word_lengths = [len(word) for word in words]"
   ]
  },
  {
   "cell_type": "code",
   "execution_count": 269,
   "id": "61db7bbe-e953-4c67-87ad-742f1f181b15",
   "metadata": {},
   "outputs": [],
   "source": [
    "tokenized_text = tokenizer(text, return_tensors='pt')\n",
    "mask_index = torch.where(tokenized_text[\"input_ids\"][0] == tokenizer.mask_token_id)[0]\n",
    "output = model(**tokenized_text)\n",
    "logits = output.logits\n",
    "softmax = F.softmax(logits, dim = -1)"
   ]
  },
  {
   "cell_type": "code",
   "execution_count": 270,
   "id": "ccdfe69b-f7c4-4579-86f8-7ae6cd767039",
   "metadata": {},
   "outputs": [],
   "source": [
    "mask_words = softmax[0, mask_index, :]\n"
   ]
  },
  {
   "cell_type": "code",
   "execution_count": 271,
   "id": "7e7ea20d-c448-4c1e-ba65-f21acd6a96c2",
   "metadata": {},
   "outputs": [
    {
     "data": {
      "text/plain": [
       "tensor([[ 6892,  3948, 25734,  ..., 21669, 18757,  4501],\n",
       "        [ 2218,  3695,  3701,  ...,  8101,  5750, 13191],\n",
       "        [ 2093, 26218, 27898,  ..., 22064, 19224,  9589],\n",
       "        [ 7388,  3131,  2489,  ...,  6183, 31461, 28235],\n",
       "        [17554, 10192,  4494,  ..., 15983, 25276, 16085]])"
      ]
     },
     "execution_count": 271,
     "metadata": {},
     "output_type": "execute_result"
    }
   ],
   "source": [
    "torch.argsort(mask_words, dim=1, descending=True)"
   ]
  },
  {
   "cell_type": "code",
   "execution_count": 272,
   "id": "293d02d2-1489-4e86-96c2-0b7b9a2d8a4c",
   "metadata": {},
   "outputs": [],
   "source": [
    "order = torch.argsort(mask_words, dim=1, descending=True)"
   ]
  },
  {
   "cell_type": "code",
   "execution_count": 273,
   "id": "9ba13429-7c8f-48fb-bbd9-742fde48f180",
   "metadata": {},
   "outputs": [],
   "source": [
    "def increment_list_index(lst: list, index) -> list:\n",
    "    new_lst = lst.copy()\n",
    "    new_lst[index] += 1\n",
    "    return new_lst"
   ]
  },
  {
   "cell_type": "code",
   "execution_count": 274,
   "id": "42deda12-dd8a-4a81-ac54-ace299ad4aca",
   "metadata": {},
   "outputs": [],
   "source": [
    "top_n = 30\n",
    "idx = order[:, 0]\n",
    "top_pairs = [[0 for id_ in idx]] # in relation to argsort\n",
    "dims = range(order.shape[0])\n",
    "values = mask_words[dims, idx]\n",
    "last_product = torch.prod(values)\n",
    "while len(top_pairs) < top_n:\n",
    "    candidates = [increment_list_index(top_pairs[-1], dim) for dim in dims]\n",
    "    candidate_values = [torch.prod(mask_words[dims, order[dims, candidate]]) for candidate in candidates]\n",
    "    best_candidate = torch.argmax(torch.Tensor(candidate_values))\n",
    "    top_pairs.append(candidates[best_candidate])\n",
    "    "
   ]
  },
  {
   "cell_type": "code",
   "execution_count": 288,
   "id": "9e567b86-8442-480a-a89d-e9ac77ae9b43",
   "metadata": {},
   "outputs": [],
   "source": [
    "def tup_generator(mask_words, dims = None):\n",
    "    \"\"\"\n",
    "    mask_words the softmax on the logits, dims is an iterable containing the dimensions along which we search\n",
    "    \"\"\"\n",
    "    if dims is None:\n",
    "        dims = range(softmax.shape[0])\n",
    "    order = torch.argsort(mask_words, dim=1, descending=True)\n",
    "    idx = order[:, 0]\n",
    "    top_pairs = [[0 for id_ in idx]] # in relation to argsort\n",
    "    values = mask_words[dims, idx]\n",
    "    last_product = torch.prod(values)\n",
    "    while True:\n",
    "        candidates = [increment_list_index(top_pairs[-1], dim) for dim in dims]\n",
    "        candidate_values = [torch.prod(mask_words[dims, order[dims, candidate]]) for candidate in candidates]\n",
    "        best_candidate = torch.argmax(torch.Tensor(candidate_values))\n",
    "        top_pairs.append(candidates[best_candidate])\n",
    "        yield top_pairs[-1]"
   ]
  },
  {
   "cell_type": "code",
   "execution_count": 311,
   "id": "440df2ad-ba46-41d5-8892-df0e09118feb",
   "metadata": {},
   "outputs": [],
   "source": []
  },
  {
   "cell_type": "code",
   "execution_count": 313,
   "id": "c4020139-aee3-4003-865f-0d3edc7f57e4",
   "metadata": {},
   "outputs": [
    {
     "name": "stdout",
     "output_type": "stream",
     "text": [
      "Már 67 <|országban|> engedélyezték, de a <|nagy|> nyugati szervezetek még <|ellenállnak|>, <|hiába|> derül ki egyre több tanulmányból, hogy a Szputynik nyugati oltásoknál is <|hatásos|>abb.\n",
      "Már 67 _országban_ engedélyezték, de a _nagy_ nyugati szervezetek még _vizsgálják_, _hiába_ derül ki egyre több tanulmányból, hogy a Szputynik nyugati oltásoknál is _hatásos_abb.\n",
      "Már 67 _országban_ engedélyezték, de a _nagy_ nyugati szervezetek még _küzdenek_, _hiába_ derül ki egyre több tanulmányból, hogy a Szputynik nyugati oltásoknál is _hatásos_abb.\n",
      "Már 67 _éve_ engedélyezték, de a _nagy_ nyugati szervezetek még _küzdenek_, _hiába_ derül ki egyre több tanulmányból, hogy a Szputynik nyugati oltásoknál is _hatásos_abb.\n",
      "Már 67 _államban_ engedélyezték, de a _nagy_ nyugati szervezetek még _küzdenek_, _hiába_ derül ki egyre több tanulmányból, hogy a Szputynik nyugati oltásoknál is _hatásos_abb.\n",
      "Már 67 _államban_ engedélyezték, de a _nagy_ nyugati szervezetek még _keresik_, _hiába_ derül ki egyre több tanulmányból, hogy a Szputynik nyugati oltásoknál is _hatásos_abb.\n",
      "Már 67 _államban_ engedélyezték, de a _nagy_ nyugati szervezetek még _várnak_, _hiába_ derül ki egyre több tanulmányból, hogy a Szputynik nyugati oltásoknál is _hatásos_abb.\n",
      "Már 67 _államban_ engedélyezték, de a _nagy_ nyugati szervezetek még _várják_, _hiába_ derül ki egyre több tanulmányból, hogy a Szputynik nyugati oltásoknál is _hatásos_abb.\n",
      "Már 67 _államban_ engedélyezték, de a _nagy_ nyugati szervezetek még _félnek_, _hiába_ derül ki egyre több tanulmányból, hogy a Szputynik nyugati oltásoknál is _hatásos_abb.\n",
      "Már 67 _államban_ engedélyezték, de a _nagy_ nyugati szervezetek még _élnek_, _hiába_ derül ki egyre több tanulmányból, hogy a Szputynik nyugati oltásoknál is _hatásos_abb.\n",
      "Már 67 _államban_ engedélyezték, de a _nagy_ nyugati szervezetek még _mindig_, _hiába_ derül ki egyre több tanulmányból, hogy a Szputynik nyugati oltásoknál is _hatásos_abb.\n",
      "Már 67 _államban_ engedélyezték, de a _nagy_ nyugati szervezetek még _dolgoznak_, _hiába_ derül ki egyre több tanulmányból, hogy a Szputynik nyugati oltásoknál is _hatásos_abb.\n",
      "Már 67 _államban_ engedélyezték, de a _nagy_ nyugati szervezetek még _támogatják_, _hiába_ derül ki egyre több tanulmányból, hogy a Szputynik nyugati oltásoknál is _hatásos_abb.\n",
      "Már 67 _államban_ engedélyezték, de a _nagy_ nyugati szervezetek még _állnak_, _hiába_ derül ki egyre több tanulmányból, hogy a Szputynik nyugati oltásoknál is _hatásos_abb.\n",
      "Már 67 _államban_ engedélyezték, de a _nagy_ nyugati szervezetek még _kérik_, _hiába_ derül ki egyre több tanulmányból, hogy a Szputynik nyugati oltásoknál is _hatásos_abb.\n",
      "Már 67 _államban_ engedélyezték, de a _nagy_ nyugati szervezetek még _alkalmazzák_, _hiába_ derül ki egyre több tanulmányból, hogy a Szputynik nyugati oltásoknál is _hatásos_abb.\n",
      "Már 67 _államban_ engedélyezték, de a _nagy_ nyugati szervezetek még _tartanak_, _hiába_ derül ki egyre több tanulmányból, hogy a Szputynik nyugati oltásoknál is _hatásos_abb.\n",
      "Már 67 _államban_ engedélyezték, de a _nagy_ nyugati szervezetek még _használják_, _hiába_ derül ki egyre több tanulmányból, hogy a Szputynik nyugati oltásoknál is _hatásos_abb.\n",
      "Már 67 _államban_ engedélyezték, de a _nagy_ nyugati szervezetek még _kevésbé_, _hiába_ derül ki egyre több tanulmányból, hogy a Szputynik nyugati oltásoknál is _hatásos_abb.\n",
      "Már 67 _államban_ engedélyezték, de a _nagy_ nyugati szervezetek még _ellene_, _hiába_ derül ki egyre több tanulmányból, hogy a Szputynik nyugati oltásoknál is _hatásos_abb.\n",
      "Már 67 _államban_ engedélyezték, de a _nagy_ nyugati szervezetek még _szenvednek_, _hiába_ derül ki egyre több tanulmányból, hogy a Szputynik nyugati oltásoknál is _hatásos_abb.\n",
      "Már 67 _államban_ engedélyezték, de a _nagy_ nyugati szervezetek még _inkább_, _hiába_ derül ki egyre több tanulmányból, hogy a Szputynik nyugati oltásoknál is _hatásos_abb.\n",
      "Már 67 _államban_ engedélyezték, de a _nagy_ nyugati szervezetek még _nyitottak_, _hiába_ derül ki egyre több tanulmányból, hogy a Szputynik nyugati oltásoknál is _hatásos_abb.\n",
      "Már 67 _államban_ engedélyezték, de a _nagy_ nyugati szervezetek még _folynak_, _hiába_ derül ki egyre több tanulmányból, hogy a Szputynik nyugati oltásoknál is _hatásos_abb.\n",
      "Már 67 _államban_ engedélyezték, de a _nagy_ nyugati szervezetek még _fizetnek_, _hiába_ derül ki egyre több tanulmányból, hogy a Szputynik nyugati oltásoknál is _hatásos_abb.\n",
      "Már 67 _államban_ engedélyezték, de a _nagy_ nyugati szervezetek még _tervezik_, _hiába_ derül ki egyre több tanulmányból, hogy a Szputynik nyugati oltásoknál is _hatásos_abb.\n",
      "Már 67 _államban_ engedélyezték, de a _nagy_ nyugati szervezetek még _kevesebben_, _hiába_ derül ki egyre több tanulmányból, hogy a Szputynik nyugati oltásoknál is _hatásos_abb.\n",
      "Már 67 _államban_ engedélyezték, de a _nagy_ nyugati szervezetek még _kezelik_, _hiába_ derül ki egyre több tanulmányból, hogy a Szputynik nyugati oltásoknál is _hatásos_abb.\n",
      "Már 67 _államban_ engedélyezték, de a _nagy_ nyugati szervezetek még _igen_, _hiába_ derül ki egyre több tanulmányból, hogy a Szputynik nyugati oltásoknál is _hatásos_abb.\n",
      "Már 67 _államban_ engedélyezték, de a _nagy_ nyugati szervezetek még _csökkentik_, _hiába_ derül ki egyre több tanulmányból, hogy a Szputynik nyugati oltásoknál is _hatásos_abb.\n",
      "Már 67 _államban_ engedélyezték, de a _nagy_ nyugati szervezetek még _tudják_, _hiába_ derül ki egyre több tanulmányból, hogy a Szputynik nyugati oltásoknál is _hatásos_abb.\n",
      "Már 67 _államban_ engedélyezték, de a _nagy_ nyugati szervezetek még _sem_, _hiába_ derül ki egyre több tanulmányból, hogy a Szputynik nyugati oltásoknál is _hatásos_abb.\n",
      "Már 67 _államban_ engedélyezték, de a _nagy_ nyugati szervezetek még _működnek_, _hiába_ derül ki egyre több tanulmányból, hogy a Szputynik nyugati oltásoknál is _hatásos_abb.\n",
      "Már 67 _államban_ engedélyezték, de a _nagy_ nyugati szervezetek még _keresnek_, _hiába_ derül ki egyre több tanulmányból, hogy a Szputynik nyugati oltásoknál is _hatásos_abb.\n",
      "Már 67 _államban_ engedélyezték, de a _nagy_ nyugati szervezetek még _maradnak_, _hiába_ derül ki egyre több tanulmányból, hogy a Szputynik nyugati oltásoknál is _hatásos_abb.\n",
      "Már 67 _államban_ engedélyezték, de a _nagy_ nyugati szervezetek még _adják_, _hiába_ derül ki egyre több tanulmányból, hogy a Szputynik nyugati oltásoknál is _hatásos_abb.\n",
      "Már 67 _államban_ engedélyezték, de a _nagy_ nyugati szervezetek még _hisznek_, _hiába_ derül ki egyre több tanulmányból, hogy a Szputynik nyugati oltásoknál is _hatásos_abb.\n",
      "Már 67 _államban_ engedélyezték, de a _nagy_ nyugati szervezetek még _tartják_, _hiába_ derül ki egyre több tanulmányból, hogy a Szputynik nyugati oltásoknál is _hatásos_abb.\n",
      "Már 67 _államban_ engedélyezték, de a _nagy_ nyugati szervezetek még _kicsik_, _hiába_ derül ki egyre több tanulmányból, hogy a Szputynik nyugati oltásoknál is _hatásos_abb.\n",
      "Már 67 _államban_ engedélyezték, de a _nagy_ nyugati szervezetek még _készülnek_, _hiába_ derül ki egyre több tanulmányból, hogy a Szputynik nyugati oltásoknál is _hatásos_abb.\n",
      "Már 67 _államban_ engedélyezték, de a _nagy_ nyugati szervezetek még _gondolják_, _hiába_ derül ki egyre több tanulmányból, hogy a Szputynik nyugati oltásoknál is _hatásos_abb.\n",
      "Már 67 _államban_ engedélyezték, de a _nagy_ nyugati szervezetek még _nincsenek_, _hiába_ derül ki egyre több tanulmányból, hogy a Szputynik nyugati oltásoknál is _hatásos_abb.\n",
      "Már 67 _államban_ engedélyezték, de a _nagy_ nyugati szervezetek még _hiába_, _hiába_ derül ki egyre több tanulmányból, hogy a Szputynik nyugati oltásoknál is _hatásos_abb.\n",
      "Már 67 _államban_ engedélyezték, de a _nagy_ nyugati szervezetek még _kérnek_, _hiába_ derül ki egyre több tanulmányból, hogy a Szputynik nyugati oltásoknál is _hatásos_abb.\n",
      "Már 67 _államban_ engedélyezték, de a _nagy_ nyugati szervezetek még _mondják_, _hiába_ derül ki egyre több tanulmányból, hogy a Szputynik nyugati oltásoknál is _hatásos_abb.\n",
      "Már 67 _államban_ engedélyezték, de a _nagy_ nyugati szervezetek még _tanulnak_, _hiába_ derül ki egyre több tanulmányból, hogy a Szputynik nyugati oltásoknál is _hatásos_abb.\n",
      "Már 67 _államban_ engedélyezték, de a _nagy_ nyugati szervezetek még _hiányoznak_, _hiába_ derül ki egyre több tanulmányból, hogy a Szputynik nyugati oltásoknál is _hatásos_abb.\n",
      "Már 67 _államban_ engedélyezték, de a _nagy_ nyugati szervezetek még _kevesen_, _hiába_ derül ki egyre több tanulmányból, hogy a Szputynik nyugati oltásoknál is _hatásos_abb.\n",
      "Már 67 _államban_ engedélyezték, de a _nagy_ nyugati szervezetek még _állítják_, _hiába_ derül ki egyre több tanulmányból, hogy a Szputynik nyugati oltásoknál is _hatásos_abb.\n",
      "Már 67 _államban_ engedélyezték, de a _nagy_ nyugati szervezetek még _próbálják_, _hiába_ derül ki egyre több tanulmányból, hogy a Szputynik nyugati oltásoknál is _hatásos_abb.\n",
      "Már 67 _államban_ engedélyezték, de a _nagy_ nyugati szervezetek még _szeretnék_, _hiába_ derül ki egyre több tanulmányból, hogy a Szputynik nyugati oltásoknál is _hatásos_abb.\n",
      "Már 67 _államban_ engedélyezték, de a _nagy_ nyugati szervezetek még _akarják_, _hiába_ derül ki egyre több tanulmányból, hogy a Szputynik nyugati oltásoknál is _hatásos_abb.\n",
      "Már 67 _államban_ engedélyezték, de a _nagy_ nyugati szervezetek még _növelik_, _hiába_ derül ki egyre több tanulmányból, hogy a Szputynik nyugati oltásoknál is _hatásos_abb.\n",
      "Már 67 _államban_ engedélyezték, de a _nagy_ nyugati szervezetek még _sehol_, _hiába_ derül ki egyre több tanulmányból, hogy a Szputynik nyugati oltásoknál is _hatásos_abb.\n",
      "Már 67 _államban_ engedélyezték, de a _nagy_ nyugati szervezetek még _többen_, _hiába_ derül ki egyre több tanulmányból, hogy a Szputynik nyugati oltásoknál is _hatásos_abb.\n",
      "Már 67 _államban_ engedélyezték, de a _nagy_ nyugati szervezetek még _beszélnek_, _hiába_ derül ki egyre több tanulmányból, hogy a Szputynik nyugati oltásoknál is _hatásos_abb.\n",
      "Már 67 _államban_ engedélyezték, de a _nagy_ nyugati szervezetek még _küzd_, _hiába_ derül ki egyre több tanulmányból, hogy a Szputynik nyugati oltásoknál is _hatásos_abb.\n",
      "Már 67 _államban_ engedélyezték, de a _nagy_ nyugati szervezetek még _zajlanak_, _hiába_ derül ki egyre több tanulmányból, hogy a Szputynik nyugati oltásoknál is _hatásos_abb.\n",
      "Már 67 _államban_ engedélyezték, de a _nagy_ nyugati szervezetek még _bizonytalan_, _hiába_ derül ki egyre több tanulmányból, hogy a Szputynik nyugati oltásoknál is _hatásos_abb.\n",
      "Már 67 _államban_ engedélyezték, de a _nagy_ nyugati szervezetek még _mások_, _hiába_ derül ki egyre több tanulmányból, hogy a Szputynik nyugati oltásoknál is _hatásos_abb.\n",
      "Már 67 _államban_ engedélyezték, de a _nagy_ nyugati szervezetek még _maradtak_, _hiába_ derül ki egyre több tanulmányból, hogy a Szputynik nyugati oltásoknál is _hatásos_abb.\n",
      "Már 67 _államban_ engedélyezték, de a _nagy_ nyugati szervezetek még _előtte_, _hiába_ derül ki egyre több tanulmányból, hogy a Szputynik nyugati oltásoknál is _hatásos_abb.\n",
      "Már 67 _államban_ engedélyezték, de a _nagy_ nyugati szervezetek még _szeretik_, _hiába_ derül ki egyre több tanulmányból, hogy a Szputynik nyugati oltásoknál is _hatásos_abb.\n",
      "Már 67 _államban_ engedélyezték, de a _nagy_ nyugati szervezetek még _utána_, _hiába_ derül ki egyre több tanulmányból, hogy a Szputynik nyugati oltásoknál is _hatásos_abb.\n",
      "Már 67 _államban_ engedélyezték, de a _nagy_ nyugati szervezetek még _követik_, _hiába_ derül ki egyre több tanulmányból, hogy a Szputynik nyugati oltásoknál is _hatásos_abb.\n",
      "Már 67 _államban_ engedélyezték, de a _nagy_ nyugati szervezetek még _tovább_, _hiába_ derül ki egyre több tanulmányból, hogy a Szputynik nyugati oltásoknál is _hatásos_abb.\n",
      "Már 67 _államban_ engedélyezték, de a _nagy_ nyugati szervezetek még _vizsgálja_, _hiába_ derül ki egyre több tanulmányból, hogy a Szputynik nyugati oltásoknál is _hatásos_abb.\n",
      "Már 67 _államban_ engedélyezték, de a _nagy_ nyugati szervezetek még _emlékeznek_, _hiába_ derül ki egyre több tanulmányból, hogy a Szputynik nyugati oltásoknál is _hatásos_abb.\n",
      "Már 67 _államban_ engedélyezték, de a _nagy_ nyugati szervezetek még _írják_, _hiába_ derül ki egyre több tanulmányból, hogy a Szputynik nyugati oltásoknál is _hatásos_abb.\n",
      "Már 67 _államban_ engedélyezték, de a _nagy_ nyugati szervezetek még _jobbak_, _hiába_ derül ki egyre több tanulmányból, hogy a Szputynik nyugati oltásoknál is _hatásos_abb.\n",
      "Már 67 _államban_ engedélyezték, de a _nagy_ nyugati szervezetek még _használhatják_, _hiába_ derül ki egyre több tanulmányból, hogy a Szputynik nyugati oltásoknál is _hatásos_abb.\n",
      "Már 67 _államban_ engedélyezték, de a _nagy_ nyugati szervezetek még _vitatott_, _hiába_ derül ki egyre több tanulmányból, hogy a Szputynik nyugati oltásoknál is _hatásos_abb.\n",
      "Már 67 _államban_ engedélyezték, de a _nagy_ nyugati szervezetek még _nézik_, _hiába_ derül ki egyre több tanulmányból, hogy a Szputynik nyugati oltásoknál is _hatásos_abb.\n",
      "Már 67 _államban_ engedélyezték, de a _nagy_ nyugati szervezetek még _alig_, _hiába_ derül ki egyre több tanulmányból, hogy a Szputynik nyugati oltásoknál is _hatásos_abb.\n",
      "Már 67 _államban_ engedélyezték, de a _nagy_ nyugati szervezetek még _léteznek_, _hiába_ derül ki egyre több tanulmányból, hogy a Szputynik nyugati oltásoknál is _hatásos_abb.\n",
      "Már 67 _államban_ engedélyezték, de a _nagy_ nyugati szervezetek még _is_, _hiába_ derül ki egyre több tanulmányból, hogy a Szputynik nyugati oltásoknál is _hatásos_abb.\n",
      "Már 67 _államban_ engedélyezték, de a _nagy_ nyugati szervezetek még _nagyon_, _hiába_ derül ki egyre több tanulmányból, hogy a Szputynik nyugati oltásoknál is _hatásos_abb.\n",
      "Már 67 _államban_ engedélyezték, de a _nagy_ nyugati szervezetek még _messze_, _hiába_ derül ki egyre több tanulmányból, hogy a Szputynik nyugati oltásoknál is _hatásos_abb.\n",
      "Már 67 _államban_ engedélyezték, de a _nagy_ nyugati szervezetek még _terveznek_, _hiába_ derül ki egyre több tanulmányból, hogy a Szputynik nyugati oltásoknál is _hatásos_abb.\n",
      "Már 67 _államban_ engedélyezték, de a _nagy_ nyugati szervezetek még _érzik_, _hiába_ derül ki egyre több tanulmányból, hogy a Szputynik nyugati oltásoknál is _hatásos_abb.\n",
      "Már 67 _államban_ engedélyezték, de a _nagy_ nyugati szervezetek még _azok_, _hiába_ derül ki egyre több tanulmányból, hogy a Szputynik nyugati oltásoknál is _hatásos_abb.\n",
      "Már 67 _államban_ engedélyezték, de a _nagy_ nyugati szervezetek még _járnak_, _hiába_ derül ki egyre több tanulmányból, hogy a Szputynik nyugati oltásoknál is _hatásos_abb.\n",
      "Már 67 _államban_ engedélyezték, de a _nagy_ nyugati szervezetek még _várták_, _hiába_ derül ki egyre több tanulmányból, hogy a Szputynik nyugati oltásoknál is _hatásos_abb.\n",
      "Már 67 _államban_ engedélyezték, de a _nagy_ nyugati szervezetek még _engedik_, _hiába_ derül ki egyre több tanulmányból, hogy a Szputynik nyugati oltásoknál is _hatásos_abb.\n",
      "Már 67 _államban_ engedélyezték, de a _nagy_ nyugati szervezetek még _évekig_, _hiába_ derül ki egyre több tanulmányból, hogy a Szputynik nyugati oltásoknál is _hatásos_abb.\n",
      "Már 67 _államban_ engedélyezték, de a _nagy_ nyugati szervezetek még _ellenáll_, _hiába_ derül ki egyre több tanulmányból, hogy a Szputynik nyugati oltásoknál is _hatásos_abb.\n",
      "Már 67 _államban_ engedélyezték, de a _nagy_ nyugati szervezetek még _többet_, _hiába_ derül ki egyre több tanulmányból, hogy a Szputynik nyugati oltásoknál is _hatásos_abb.\n",
      "Már 67 _államban_ engedélyezték, de a _nagy_ nyugati szervezetek még _vártak_, _hiába_ derül ki egyre több tanulmányból, hogy a Szputynik nyugati oltásoknál is _hatásos_abb.\n",
      "Már 67 _államban_ engedélyezték, de a _nagy_ nyugati szervezetek még _döntenek_, _hiába_ derül ki egyre több tanulmányból, hogy a Szputynik nyugati oltásoknál is _hatásos_abb.\n",
      "Már 67 _államban_ engedélyezték, de a _nagy_ nyugati szervezetek még _sokáig_, _hiába_ derül ki egyre több tanulmányból, hogy a Szputynik nyugati oltásoknál is _hatásos_abb.\n",
      "Már 67 _államban_ engedélyezték, de a _nagy_ nyugati szervezetek még _kérdéses_, _hiába_ derül ki egyre több tanulmányból, hogy a Szputynik nyugati oltásoknál is _hatásos_abb.\n",
      "Már 67 _államban_ engedélyezték, de a _nagy_ nyugati szervezetek még _csak_, _hiába_ derül ki egyre több tanulmányból, hogy a Szputynik nyugati oltásoknál is _hatásos_abb.\n",
      "Már 67 _államban_ engedélyezték, de a _nagy_ nyugati szervezetek még _vannak_, _hiába_ derül ki egyre több tanulmányból, hogy a Szputynik nyugati oltásoknál is _hatásos_abb.\n",
      "Már 67 _államban_ engedélyezték, de a _nagy_ nyugati szervezetek még _tagad_, _hiába_ derül ki egyre több tanulmányból, hogy a Szputynik nyugati oltásoknál is _hatásos_abb.\n",
      "Már 67 _államban_ engedélyezték, de a _nagy_ nyugati szervezetek még _vizsgálták_, _hiába_ derül ki egyre több tanulmányból, hogy a Szputynik nyugati oltásoknál is _hatásos_abb.\n",
      "Már 67 _államban_ engedélyezték, de a _nagy_ nyugati szervezetek még _tartoznak_, _hiába_ derül ki egyre több tanulmányból, hogy a Szputynik nyugati oltásoknál is _hatásos_abb.\n",
      "Már 67 _államban_ engedélyezték, de a _nagy_ nyugati szervezetek még _soha_, _hiába_ derül ki egyre több tanulmányból, hogy a Szputynik nyugati oltásoknál is _hatásos_abb.\n",
      "Már 67 _államban_ engedélyezték, de a _nagy_ nyugati szervezetek még _elfogadják_, _hiába_ derül ki egyre több tanulmányból, hogy a Szputynik nyugati oltásoknál is _hatásos_abb.\n",
      "Már 67 _államban_ engedélyezték, de a _nagy_ nyugati szervezetek még _vezetnek_, _hiába_ derül ki egyre több tanulmányból, hogy a Szputynik nyugati oltásoknál is _hatásos_abb.\n",
      "Már 67 _államban_ engedélyezték, de a _nagy_ nyugati szervezetek még _fordulnak_, _hiába_ derül ki egyre több tanulmányból, hogy a Szputynik nyugati oltásoknál is _hatásos_abb.\n",
      "Már 67 _államban_ engedélyezték, de a _nagy_ nyugati szervezetek még _fogadják_, _hiába_ derül ki egyre több tanulmányból, hogy a Szputynik nyugati oltásoknál is _hatásos_abb.\n",
      "Már 67 _államban_ engedélyezték, de a _nagy_ nyugati szervezetek még _számítanak_, _hiába_ derül ki egyre több tanulmányból, hogy a Szputynik nyugati oltásoknál is _hatásos_abb.\n",
      "Már 67 _államban_ engedélyezték, de a _nagy_ nyugati szervezetek még _sokan_, _hiába_ derül ki egyre több tanulmányból, hogy a Szputynik nyugati oltásoknál is _hatásos_abb.\n"
     ]
    }
   ],
   "source": [
    "gen = tup_generator(mask_words)\n",
    "dims = range(mask_words.shape[0])\n",
    "order = torch.argsort(mask_words, dim=1, descending=True)\n",
    "marked_text = orig_text\n",
    "for word in words:\n",
    "    marked_text = marked_text.replace(word, f'<|{word}|>', 1)\n",
    "print(marked_text)\n",
    "for i, idx in enumerate(gen):\n",
    "    token_tup = order[dims, idx]\n",
    "    new_sentence = text\n",
    "    for token_id in token_tup:\n",
    "        token = tokenizer.decode([token_id])\n",
    "        new_sentence = new_sentence.replace(tokenizer.mask_token, f'_{token}_', 1)\n",
    "    print(new_sentence)\n",
    "    if i > 100:\n",
    "        break"
   ]
  },
  {
   "cell_type": "code",
   "execution_count": 216,
   "id": "2ee94828-dfc7-4f67-9a58-bcaf1a18ca14",
   "metadata": {},
   "outputs": [
    {
     "name": "stdout",
     "output_type": "stream",
     "text": [
      "Már 67 <|országb<|a|>n|> engedélyezték, de a <|nagy|> nyugati szervezetek még <|ellenállnak|>, <|hiába|> derül ki egyre tö<|bb|> tanulmányból, hogy a Szputynik nyugati oltásoknál is <|hatásos|>abb.\n",
      "Már 67 _országban_ engedélyezték, de _a_ _a_ nyugati szervezetek még _vizsgálják_, _hiába_ derül ki egyre tö_több_ tanulmányból, hogy a Szputynik nyugati oltásoknál is _hatásos_abb.\n",
      "Már 67 _országban_ engedélyezték, de _a_ _a_ nyugati szervezetek még _vizsgálják_, _hiába_ derül ki egyre tö_külföldi_ tanulmányból, hogy a Szputynik nyugati oltásoknál is _hatásos_abb.\n",
      "Már 67 _országban_ engedélyezték, de _a_ _a_ nyugati szervezetek még _nem_, _hiába_ derül ki egyre tö_külföldi_ tanulmányból, hogy a Szputynik nyugati oltásoknál is _hatásos_abb.\n",
      "Már 67 _országban_ engedélyezték, de _a_ _a_ nyugati szervezetek még _küzdenek_, _hiába_ derül ki egyre tö_külföldi_ tanulmányból, hogy a Szputynik nyugati oltásoknál is _hatásos_abb.\n",
      "Már 67 _éve_ engedélyezték, de _a_ _a_ nyugati szervezetek még _küzdenek_, _hiába_ derül ki egyre tö_külföldi_ tanulmányból, hogy a Szputynik nyugati oltásoknál is _hatásos_abb.\n",
      "Már 67 _éve_ engedélyezték, de _a_ _a_ nyugati szervezetek még _küzdenek_, _ezért_ derül ki egyre tö_külföldi_ tanulmányból, hogy a Szputynik nyugati oltásoknál is _hatásos_abb.\n",
      "Már 67 _éve_ engedélyezték, de _a_ _a_ nyugati szervezetek még _küzdenek_, _és_ derül ki egyre tö_külföldi_ tanulmányból, hogy a Szputynik nyugati oltásoknál is _hatásos_abb.\n",
      "Már 67 _éve_ engedélyezték, de _a_ _a_ nyugati szervezetek még _küzdenek_, _így_ derül ki egyre tö_külföldi_ tanulmányból, hogy a Szputynik nyugati oltásoknál is _hatásos_abb.\n",
      "Már 67 _éve_ engedélyezték, de _a_ _a_ nyugati szervezetek még _küzdenek_, _így_ derül ki egyre tö_nemzetközi_ tanulmányból, hogy a Szputynik nyugati oltásoknál is _hatásos_abb.\n",
      "Már 67 _éve_ engedélyezték, de _a_ _a_ nyugati szervezetek még _küzdenek_, _így_ derül ki egyre tö_##bb_ tanulmányból, hogy a Szputynik nyugati oltásoknál is _hatásos_abb.\n",
      "Már 67 _éve_ engedélyezték, de _a_ _a_ nyugati szervezetek még _küzdenek_, _így_ derül ki egyre tö_tudományos_ tanulmányból, hogy a Szputynik nyugati oltásoknál is _hatásos_abb.\n",
      "Már 67 _éve_ engedélyezték, de _a_ _a_ nyugati szervezetek még _küzdenek_, _így_ derül ki egyre tö_amerikai_ tanulmányból, hogy a Szputynik nyugati oltásoknál is _hatásos_abb.\n",
      "Már 67 _éve_ engedélyezték, de _a_ _a_ nyugati szervezetek még _küzdenek_, _így_ derül ki egyre tö_európai_ tanulmányból, hogy a Szputynik nyugati oltásoknál is _hatásos_abb.\n",
      "Már 67 _éve_ engedélyezték, de _a_ _a_ nyugati szervezetek még _küzdenek_, _így_ derül ki egyre tö_bb_ tanulmányból, hogy a Szputynik nyugati oltásoknál is _hatásos_abb.\n",
      "Már 67 _éve_ engedélyezték, de _a_ _a_ nyugati szervezetek még _küzdenek_, _így_ derül ki egyre tö_számú_ tanulmányból, hogy a Szputynik nyugati oltásoknál is _hatásos_abb.\n",
      "Már 67 _éve_ engedélyezték, de _a_ _a_ nyugati szervezetek még _küzdenek_, _így_ derül ki egyre tö_új_ tanulmányból, hogy a Szputynik nyugati oltásoknál is _hatásos_abb.\n",
      "Már 67 _éve_ engedélyezték, de _a_ _a_ nyugati szervezetek még _küzdenek_, _így_ derül ki egyre tö_újabb_ tanulmányból, hogy a Szputynik nyugati oltásoknál is _hatásos_abb.\n",
      "Már 67 _éve_ engedélyezték, de _a_ _a_ nyugati szervezetek még _küzdenek_, _így_ derül ki egyre tö_más_ tanulmányból, hogy a Szputynik nyugati oltásoknál is _hatásos_abb.\n",
      "Már 67 _éve_ engedélyezték, de _a_ _a_ nyugati szervezetek még _küzdenek_, _így_ derül ki egyre tö_kínai_ tanulmányból, hogy a Szputynik nyugati oltásoknál is _hatásos_abb.\n",
      "Már 67 _éve_ engedélyezték, de _a_ _a_ nyugati szervezetek még _küzdenek_, _így_ derül ki egyre tö_sok_ tanulmányból, hogy a Szputynik nyugati oltásoknál is _hatásos_abb.\n",
      "Már 67 _éve_ engedélyezték, de _a_ _a_ nyugati szervezetek még _küzdenek_, _így_ derül ki egyre tö_magyar_ tanulmányból, hogy a Szputynik nyugati oltásoknál is _hatásos_abb.\n",
      "Már 67 _éve_ engedélyezték, de _a_ _a_ nyugati szervezetek még _küzdenek_, _így_ derül ki egyre tö_kutatási_ tanulmányból, hogy a Szputynik nyugati oltásoknál is _hatásos_abb.\n",
      "Már 67 _éve_ engedélyezték, de _a_ _a_ nyugati szervezetek még _küzdenek_, _így_ derül ki egyre tö_orvosi_ tanulmányból, hogy a Szputynik nyugati oltásoknál is _hatásos_abb.\n",
      "Már 67 _éve_ engedélyezték, de _a_ _a_ nyugati szervezetek még _küzdenek_, _így_ derül ki egyre tö_német_ tanulmányból, hogy a Szputynik nyugati oltásoknál is _hatásos_abb.\n",
      "Már 67 _éve_ engedélyezték, de _a_ _a_ nyugati szervezetek még _küzdenek_, _így_ derül ki egyre tö_angol_ tanulmányból, hogy a Szputynik nyugati oltásoknál is _hatásos_abb.\n",
      "Már 67 _éve_ engedélyezték, de _a_ _a_ nyugati szervezetek még _küzdenek_, _így_ derül ki egyre tö_klinikai_ tanulmányból, hogy a Szputynik nyugati oltásoknál is _hatásos_abb.\n",
      "Már 67 _éve_ engedélyezték, de _a_ _a_ nyugati szervezetek még _küzdenek_, _így_ derül ki egyre tö_hazai_ tanulmányból, hogy a Szputynik nyugati oltásoknál is _hatásos_abb.\n",
      "Már 67 _éve_ engedélyezték, de _a_ _a_ nyugati szervezetek még _küzdenek_, _így_ derül ki egyre tö_a_ tanulmányból, hogy a Szputynik nyugati oltásoknál is _hatásos_abb.\n",
      "Már 67 _éve_ engedélyezték, de _a_ _a_ nyugati szervezetek még _küzdenek_, _így_ derül ki egyre tö_##b_ tanulmányból, hogy a Szputynik nyugati oltásoknál is _hatásos_abb.\n",
      "Már 67 _éve_ engedélyezték, de _a_ _a_ nyugati szervezetek még _küzdenek_, _így_ derül ki egyre tö_-_ tanulmányból, hogy a Szputynik nyugati oltásoknál is _hatásos_abb.\n"
     ]
    }
   ],
   "source": [
    "marked_text = orig_text\n",
    "for word in words:\n",
    "    marked_text = marked_text.replace(word, f'<|{word}|>', 1)\n",
    "print(marked_text)\n",
    "for token_tup in [order[dims, pair] for pair in top_pairs]:\n",
    "    new_sentence = text\n",
    "    for token_id in token_tup:\n",
    "        token = tokenizer.decode([token_id])\n",
    "        new_sentence = new_sentence.replace(tokenizer.mask_token, f'_{token}_', 1)\n",
    "    print(new_sentence)"
   ]
  },
  {
   "cell_type": "code",
   "execution_count": 90,
   "id": "39de86b7-289d-4226-829b-76b7ec6412a0",
   "metadata": {},
   "outputs": [],
   "source": [
    "numbers = [] * order.shape[0]"
   ]
  },
  {
   "cell_type": "code",
   "execution_count": 147,
   "id": "1487b68a-d156-42ef-8427-82be366a1cdc",
   "metadata": {},
   "outputs": [
    {
     "data": {
      "text/plain": [
       "2"
      ]
     },
     "execution_count": 147,
     "metadata": {},
     "output_type": "execute_result"
    }
   ],
   "source": [
    "[1, 2, 3][torch.argmax(torch.Tensor(candidate_values))]"
   ]
  },
  {
   "cell_type": "code",
   "execution_count": 120,
   "id": "0f88d2d3-4379-41e4-a367-3c51ad4c53c1",
   "metadata": {},
   "outputs": [
    {
     "data": {
      "text/plain": [
       "torch.Size([2, 32001])"
      ]
     },
     "execution_count": 120,
     "metadata": {},
     "output_type": "execute_result"
    }
   ],
   "source": [
    "mask_words.shape"
   ]
  },
  {
   "cell_type": "code",
   "execution_count": 99,
   "id": "e8768dfc-b338-4d84-b3f3-767056197275",
   "metadata": {},
   "outputs": [
    {
     "ename": "IndexError",
     "evalue": "index 4022 is out of bounds for dimension 0 with size 1",
     "output_type": "error",
     "traceback": [
      "\u001B[0;31m---------------------------------------------------------------------------\u001B[0m",
      "\u001B[0;31mIndexError\u001B[0m                                Traceback (most recent call last)",
      "\u001B[0;32m<ipython-input-99-e637a29d4a75>\u001B[0m in \u001B[0;36m<module>\u001B[0;34m\u001B[0m\n\u001B[0;32m----> 1\u001B[0;31m \u001B[0msoftmax\u001B[0m\u001B[0;34m[\u001B[0m\u001B[0morder\u001B[0m\u001B[0;34m[\u001B[0m\u001B[0;34m:\u001B[0m\u001B[0;34m,\u001B[0m \u001B[0;36m0\u001B[0m\u001B[0;34m]\u001B[0m\u001B[0;34m]\u001B[0m\u001B[0;34m\u001B[0m\u001B[0;34m\u001B[0m\u001B[0m\n\u001B[0m",
      "\u001B[0;31mIndexError\u001B[0m: index 4022 is out of bounds for dimension 0 with size 1"
     ]
    }
   ],
   "source": [
    "softmax[order[:, 0]]"
   ]
  },
  {
   "cell_type": "code",
   "execution_count": 123,
   "id": "f6a9391e-bad6-4a35-830f-683c85518499",
   "metadata": {},
   "outputs": [
    {
     "data": {
      "text/plain": [
       "tensor([0.7228, 0.4612], grad_fn=<IndexBackward>)"
      ]
     },
     "execution_count": 123,
     "metadata": {},
     "output_type": "execute_result"
    }
   ],
   "source": [
    "mask_words[range(order.shape[0]), order[:, 0]]"
   ]
  },
  {
   "cell_type": "code",
   "execution_count": 108,
   "id": "6459c65a-dbd9-40f2-981d-af1a34d8333c",
   "metadata": {},
   "outputs": [
    {
     "data": {
      "text/plain": [
       "tensor([2.8730e-12, 1.5070e-06], grad_fn=<IndexBackward>)"
      ]
     },
     "execution_count": 108,
     "metadata": {},
     "output_type": "execute_result"
    }
   ],
   "source": [
    "mask_words[(0, 0), (0, 1)]"
   ]
  },
  {
   "cell_type": "code",
   "execution_count": 112,
   "id": "e48f878c-f728-4788-bebf-fb4b3fb2d0c8",
   "metadata": {},
   "outputs": [
    {
     "data": {
      "text/plain": [
       "(0, 1)"
      ]
     },
     "execution_count": 112,
     "metadata": {},
     "output_type": "execute_result"
    }
   ],
   "source": [
    "tuple(range(order.shape[0]))"
   ]
  },
  {
   "cell_type": "code",
   "execution_count": 118,
   "id": "fe208a9e-a187-4787-bf59-4cad2f152ab5",
   "metadata": {},
   "outputs": [
    {
     "data": {
      "text/plain": [
       "[6892, 4022]"
      ]
     },
     "execution_count": 118,
     "metadata": {},
     "output_type": "execute_result"
    }
   ],
   "source": [
    "order[:, 0].tolist()"
   ]
  },
  {
   "cell_type": "code",
   "execution_count": null,
   "id": "89a4df80-46f3-4947-a3dc-64e788754091",
   "metadata": {},
   "outputs": [],
   "source": []
  }
 ],
 "metadata": {
  "kernelspec": {
   "display_name": "Python 3",
   "language": "python",
   "name": "python3"
  },
  "language_info": {
   "codemirror_mode": {
    "name": "ipython",
    "version": 3
   },
   "file_extension": ".py",
   "mimetype": "text/x-python",
   "name": "python",
   "nbconvert_exporter": "python",
   "pygments_lexer": "ipython3",
   "version": "3.9.0"
  },
  "toc-autonumbering": true
 },
 "nbformat": 4,
 "nbformat_minor": 5
}