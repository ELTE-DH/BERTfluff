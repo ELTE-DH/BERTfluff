{
 "cells": [
  {
   "cell_type": "code",
   "execution_count": 1,
   "id": "ee1f436d-fb73-4af5-ba49-8b231acc1241",
   "metadata": {},
   "outputs": [
    {
     "name": "stderr",
     "output_type": "stream",
     "text": [
      "Some weights of the model checkpoint at SZTAKI-HLT/hubert-base-cc were not used when initializing BertModel: ['cls.seq_relationship.weight', 'cls.predictions.decoder.weight', 'cls.predictions.bias', 'cls.seq_relationship.bias', 'cls.predictions.transform.dense.bias', 'cls.predictions.transform.dense.weight', 'cls.predictions.decoder.bias', 'cls.predictions.transform.LayerNorm.bias', 'cls.predictions.transform.LayerNorm.weight']\n",
      "- This IS expected if you are initializing BertModel from the checkpoint of a model trained on another task or with another architecture (e.g. initializing a BertForSequenceClassification model from a BertForPreTraining model).\n",
      "- This IS NOT expected if you are initializing BertModel from the checkpoint of a model that you expect to be exactly identical (initializing a BertForSequenceClassification model from a BertForSequenceClassification model).\n"
     ]
    }
   ],
   "source": [
    "import transformers\n",
    "from transformers import AutoTokenizer, AutoModel\n",
    "import re\n",
    "import tqdm\n",
    "import numpy as np\n",
    "import torch\n",
    "from torch.nn import CosineSimilarity\n",
    "import pandas as pd\n",
    "\n",
    "model_name = 'SZTAKI-HLT/hubert-base-cc'\n",
    "  \n",
    "tokenizer = AutoTokenizer.from_pretrained(model_name, do_lower_case=True)\n",
    "\n",
    "model = AutoModel.from_pretrained(model_name, output_hidden_states=True)"
   ]
  },
  {
   "cell_type": "code",
   "execution_count": 6,
   "id": "2ea9b198-552a-4a30-a8c7-6a2f24cc4141",
   "metadata": {},
   "outputs": [],
   "source": [
    "def get_word_idx(sent: str, word: str):\n",
    "    return sent.split(\" \").index(word)\n",
    "\n",
    "\n",
    "def get_hidden_states(encoded, token_ids_word, model, layers):\n",
    "    \"\"\"Push input IDs through model. Stack and sum `layers` (last four by default).\n",
    "    Select only those subword token outputs that belong to our word of interest\n",
    "    and average them.\"\"\"\n",
    "    with torch.no_grad():\n",
    "        output = model(**encoded)\n",
    "\n",
    "    # Get all hidden states\n",
    "    states = output.hidden_states\n",
    "    # Stack and sum all requested layers\n",
    "    output = torch.stack([states[i] for i in layers]).sum(0).squeeze()\n",
    "    # Only select the tokens that constitute the requested word\n",
    "    word_tokens_output = output[token_ids_word]\n",
    "\n",
    "    return word_tokens_output.mean(dim=0)\n",
    "\n",
    "\n",
    "def get_word_vector(sent, idx, tokenizer, model, layers):\n",
    "    \"\"\"Get a word vector by first tokenizing the input sentence, getting all token idxs\n",
    "    that make up the word of interest, and then `get_hidden_states`.\"\"\"\n",
    "    encoded = tokenizer(sent, return_tensors=\"pt\")\n",
    "    # get all token idxs that belong to the word of interest\n",
    "    token_ids_word = np.where(np.array(encoded.word_ids()) == idx)\n",
    "\n",
    "    return get_hidden_states(encoded, token_ids_word, model, layers)\n",
    "\n",
    "def get_word_vector_for_idx(sent, word_idx, tokenizer, model, layers):\n",
    "    encoded = tokenizer(sent, return_tensors=\"pt\")\n",
    "    token_ids_word = np.where(np.isin(encoded.word_ids(), word_idx))\n",
    "    \n",
    "    return get_hidden_states(encoded, token_ids_word, model, layers)\n",
    "\n",
    "def get_context(sent, idx, window=2):\n",
    "    segmented_sen = sent.split(' ')\n",
    "    return segmented_sen[max((idx-window), 0):idx] + segmented_sen[idx+1:min((idx+window+1, len(segmented_sen)))]\n",
    "\n",
    "def get_context_idx(sent, idx, window=2):\n",
    "    segmented_sen = sent.split(' ')\n",
    "    return list(range(max((idx-window), 0), idx)) + list(range(idx+1, min((idx+window+1, len(segmented_sen)))))\n",
    "\n",
    "def get_context_vector(sent, idx, window, tokenizer, model, layers):\n",
    "    context_idx = get_context_idx(sent, idx, window)\n",
    "    encoded = tokenizer(sent, return_tensors=\"pt\")\n",
    "    # get all token idxs that belong to the word of interest\n",
    "    token_ids_words = [np.where(np.array(encoded.word_ids()) == idx) for idx in context_idx]\n",
    "    vectors = [get_hidden_states(encoded, token_ids_word, model, layers) for token_ids_word in token_ids_words]\n",
    "    return torch.mean(torch.stack(vectors), dim=0)"
   ]
  },
  {
   "cell_type": "code",
   "execution_count": 7,
   "id": "a6c69888-9985-42a9-88a8-486b55ef2d7e",
   "metadata": {},
   "outputs": [],
   "source": [
    "corpus = []\n",
    "with open('corp_tok.spl') as f:\n",
    "    for line in map(str.strip, f):\n",
    "        corpus += [line]"
   ]
  },
  {
   "cell_type": "code",
   "execution_count": 8,
   "id": "8ccabf46-cb10-4bd4-9689-8bdf8b58d18d",
   "metadata": {},
   "outputs": [
    {
     "name": "stderr",
     "output_type": "stream",
     "text": [
      "100%|██████████| 99/99 [00:20<00:00,  4.90it/s]\n"
     ]
    }
   ],
   "source": [
    "subword = r'nem'\n",
    "context_size = 3\n",
    "layers = [12]\n",
    "\n",
    "vectors = {}\n",
    "context_vectors = {}\n",
    "context_words = {}\n",
    "\n",
    "\n",
    "for sent_id, sentence in tqdm.tqdm(enumerate(corpus), total=len(corpus)):\n",
    "    for i, word in enumerate(sentence.split(' ')):\n",
    "        if re.match(subword, word):\n",
    "            vectors[sent_id, i, word] = get_word_vector(sentence, i, tokenizer, model, layers).numpy()\n",
    "            context_vectors[sent_id, i, word] = get_context_vector(sentence, i, context_size, tokenizer, model, layers).numpy()\n",
    "            context_words[sent_id, i, word] = get_context(sentence, i, context_size)"
   ]
  },
  {
   "cell_type": "code",
   "execution_count": null,
   "id": "12cd051f-03ae-4de5-8de0-aab1abc2d360",
   "metadata": {},
   "outputs": [],
   "source": []
  },
  {
   "cell_type": "code",
   "execution_count": 9,
   "id": "ee8c2011-6c07-458f-81f2-7b920ec51dc7",
   "metadata": {},
   "outputs": [],
   "source": [
    "import sklearn.manifold, sklearn.decomposition, sklearn.cluster\n",
    "import plotly.express as px"
   ]
  },
  {
   "cell_type": "code",
   "execution_count": 10,
   "id": "3c76a02a-5676-44d4-8a5b-90aa7f656570",
   "metadata": {},
   "outputs": [
    {
     "data": {
      "text/plain": [
       "PCA(n_components=30)"
      ]
     },
     "execution_count": 10,
     "metadata": {},
     "output_type": "execute_result"
    }
   ],
   "source": [
    "# learning dimensionality reduction because we can't really use 768 dim vectors\n",
    "pca = sklearn.decomposition.PCA(n_components=30)\n",
    "pca.fit(np.stack(list(vectors.values())))"
   ]
  },
  {
   "cell_type": "code",
   "execution_count": 11,
   "id": "d3acf659-fb81-4bc0-ae43-d15c3b886f06",
   "metadata": {},
   "outputs": [
    {
     "data": {
      "text/plain": [
       "array([[-4.7012625 ,  0.36052045,  0.92070794,  0.23657481,  0.11899285,\n",
       "         0.31753826, -0.8868038 , -0.955982  ,  1.123457  ,  0.2704324 ,\n",
       "         1.2219805 ,  0.45535448, -0.6826393 ,  0.91192764, -1.7593709 ,\n",
       "         0.21240334, -1.2616678 ,  3.1292596 , -0.77253914, -2.5699382 ,\n",
       "         1.0290556 , -1.4750029 , -1.4583855 , -2.0707898 , -1.7099284 ,\n",
       "         1.2194908 ,  0.60409516,  1.0455613 ,  1.1871333 ,  0.14247024]],\n",
       "      dtype=float32)"
      ]
     },
     "execution_count": 11,
     "metadata": {},
     "output_type": "execute_result"
    }
   ],
   "source": [
    "example_vector = vectors[(4, 16, 'nem')]\n",
    "pca.transform(example_vector.reshape(1, -1))"
   ]
  },
  {
   "cell_type": "code",
   "execution_count": 12,
   "id": "ef0a510e-9664-4a1c-8f6f-2b204fc2f9f6",
   "metadata": {},
   "outputs": [],
   "source": [
    "word_ids = sorted(vectors.keys(), key = lambda x: x[2])"
   ]
  },
  {
   "cell_type": "code",
   "execution_count": 13,
   "id": "4df2ab96-10bd-40f4-a8c9-b3070cc12dff",
   "metadata": {},
   "outputs": [],
   "source": [
    "df_data = []\n",
    "for sent_id, word_id, word in word_ids:\n",
    "    cur_line = [sent_id, word_id, word]\n",
    "    cur_line += [context_words[(sent_id, word_id, word)]]\n",
    "    df_data += [cur_line]\n",
    "    "
   ]
  },
  {
   "cell_type": "code",
   "execution_count": 14,
   "id": "f5555a3b-30bb-411a-a90d-f50e259bd74a",
   "metadata": {},
   "outputs": [
    {
     "data": {
      "text/plain": [
       "(39, 30)"
      ]
     },
     "execution_count": 14,
     "metadata": {},
     "output_type": "execute_result"
    }
   ],
   "source": [
    "# we reshape to 768-long, 1 width 2 dimensional arrays, then stack them, so we get an array of items by dimension size\n",
    "pca_vectors = np.stack([pca.transform(vectors[word].reshape(1, -1)).flatten() for word in word_ids], axis=0)\n",
    "pca_context_vectors = np.stack([pca.transform(context_vectors[word].reshape(1, -1)).flatten() for word in word_ids], axis=0)\n",
    "pca_vectors.shape"
   ]
  },
  {
   "cell_type": "code",
   "execution_count": 15,
   "id": "b21c968d-142d-4369-b640-6aaee41cdf6c",
   "metadata": {},
   "outputs": [],
   "source": [
    "tsne_pca = sklearn.manifold.TSNE(n_components=2, random_state=0)\n",
    "tsne_context = sklearn.manifold.TSNE(n_components=2, random_state=1)"
   ]
  },
  {
   "cell_type": "code",
   "execution_count": 16,
   "id": "ccde1189-4c08-4e1f-8d12-152d7ca726f0",
   "metadata": {},
   "outputs": [],
   "source": [
    "projections = tsne_pca.fit_transform(pca_vectors)\n",
    "projections_context = tsne_context.fit_transform(pca_context_vectors)"
   ]
  },
  {
   "cell_type": "code",
   "execution_count": 43,
   "id": "aa0cdd0a-b5a2-42ff-a97d-87b1e04b5c81",
   "metadata": {},
   "outputs": [],
   "source": [
    "df = pd.DataFrame(data = df_data, columns = ['sent_id', 'word_id', 'word', 'context'])\n",
    "kmeans = sklearn.cluster.KMeans(n_clusters=3)\n",
    "kmeans.fit(pca_vectors)\n",
    "labels = kmeans.predict(pca_vectors)\n",
    "df['cluster'] = labels.astype(str).tolist()"
   ]
  },
  {
   "cell_type": "code",
   "execution_count": 44,
   "id": "241a97a3-ff67-4e23-8257-a01d30e45eaa",
   "metadata": {},
   "outputs": [],
   "source": [
    "kmeans_context = sklearn.cluster.KMeans(n_clusters=3)\n",
    "kmeans_context.fit(pca_context_vectors)\n",
    "context_labels = kmeans_context.predict(pca_context_vectors)\n",
    "df['context_label'] = context_labels.astype(str).tolist()"
   ]
  },
  {
   "cell_type": "code",
   "execution_count": 45,
   "id": "8d9d2ed9-c383-430a-a09f-5e561c1f77ab",
   "metadata": {},
   "outputs": [],
   "source": [
    "df['tsne_x'] = projections[:, 0].tolist()\n",
    "df['tsne_y'] = projections[:, 1].tolist()\n",
    "df['tsne_context_x'] = projections_context[:, 0].tolist()\n",
    "df['tsne_context_y'] = projections_context[:, 1].tolist()"
   ]
  },
  {
   "cell_type": "code",
   "execution_count": 46,
   "id": "e142e490-eebe-454e-86b6-e1592b2e8218",
   "metadata": {},
   "outputs": [
    {
     "data": {
      "application/vnd.plotly.v1+json": {
       "config": {
        "plotlyServerURL": "https://plot.ly"
       },
       "data": [
        {
         "customdata": [
          [
           4,
           16,
           "nem",
           [
            "szóban",
            "forgó",
            "részlet",
            "állítja",
            ",",
            "hogy"
           ]
          ],
          [
           7,
           41,
           "nem",
           [
            ",",
            "de",
            "az",
            "véletlenül",
            "pedofilellenes",
            "tervezetként"
           ]
          ],
          [
           8,
           12,
           "nem",
           [
            "nyitóbeszédében",
            "pedofilellenes",
            ",",
            "pedig",
            "gyermekvédelmi",
            "törvénycsomagként"
           ]
          ],
          [
           14,
           18,
           "nem",
           [
            "a",
            "Eurochild",
            "szerint",
            "védi",
            "a",
            "gyerekeket"
           ]
          ],
          [
           16,
           12,
           "nem",
           [
            ",",
            "a",
            "gyerekek",
            "jutnak",
            "hozzá",
            "olyan"
           ]
          ],
          [
           20,
           3,
           "nem",
           [
            "Az",
            "iskolai",
            "nevelés",
            "állhat",
            "ellentétben",
            "a"
           ]
          ],
          [
           21,
           24,
           "nem",
           [
            "kerül",
            ",",
            "és",
            "biztos",
            ",",
            "hogy"
           ]
          ],
          [
           24,
           1,
           "nem",
           [
            "Arról",
            "beszélve",
            ",",
            "hogy"
           ]
          ],
          [
           25,
           4,
           "nem",
           [
            "szülők",
            ",",
            "akik",
            "örülnek",
            "annak",
            ","
           ]
          ],
          [
           35,
           14,
           "nem",
           [
            "szexualitás",
            "örömteli",
            "oldalára",
            "igazán",
            "fókuszáló",
            "magyar"
           ]
          ],
          [
           37,
           6,
           "nem",
           [
            "ebbe",
            "és",
            "mi",
            "?"
           ]
          ],
          [
           39,
           6,
           "nem",
           [
            "amíg",
            "esetleg",
            "ki",
            "jön",
            "egy",
            ","
           ]
          ],
          [
           40,
           29,
           "nem",
           [
            "szabályozással",
            ",",
            "szankciókkal",
            "akartak",
            "volna",
            "kikényszeríteni"
           ]
          ],
          [
           41,
           11,
           "nem",
           [
            "véve",
            "az",
            "iskolában",
            "lehet",
            "tanítani",
            "Rimbaud-t"
           ]
          ],
          [
           50,
           14,
           "nem",
           [
            "hozzá",
            ",",
            "mert",
            "bízik",
            "az",
            "otthoniak"
           ]
          ],
          [
           51,
           10,
           "nem",
           [
            "megfelelő",
            "–",
            "kezelése",
            "életszerű",
            "pedagógiai",
            "szempontból"
           ]
          ],
          [
           53,
           8,
           "nem",
           [
            "forgatókönyvnek",
            ",",
            "hogy",
            "lesz",
            "."
           ]
          ],
          [
           55,
           18,
           "nem",
           [
            "kormány",
            ",",
            "és",
            "is",
            "szálltak",
            "rá"
           ]
          ],
          [
           57,
           4,
           "nem",
           [
            "Fidesz",
            "kormányzási",
            "stílusától",
            "idegen",
            ",",
            "hogy"
           ]
          ],
          [
           70,
           14,
           "nem",
           [
            "hogy",
            "Orbán",
            "Viktor",
            "a",
            "helyszínen",
            "nézte"
           ]
          ],
          [
           74,
           5,
           "nem",
           [
            "hogy",
            "a",
            "kormány",
            "számított",
            "ilyen",
            "éles"
           ]
          ],
          [
           77,
           23,
           "nem",
           [
            "nemzetközi",
            "politikai",
            "következményei",
            "lettek",
            "(",
            "rövid"
           ]
          ],
          [
           79,
           5,
           "nem",
           [
            "azt",
            "is",
            ",",
            "sérti",
            "-e",
            "az"
           ]
          ]
         ],
         "hovertemplate": "cluster=2<br>tsne_x=%{x}<br>tsne_y=%{y}<br>word=%{customdata[2]}<br>sent_id=%{customdata[0]}<br>word_id=%{customdata[1]}<br>context=%{customdata[3]}<extra></extra>",
         "legendgroup": "2",
         "marker": {
          "color": "#636efa",
          "symbol": "circle"
         },
         "mode": "markers+text",
         "name": "2",
         "orientation": "v",
         "showlegend": true,
         "text": [
          "nem",
          "nem",
          "nem",
          "nem",
          "nem",
          "nem",
          "nem",
          "nem",
          "nem",
          "nem",
          "nem",
          "nem",
          "nem",
          "nem",
          "nem",
          "nem",
          "nem",
          "nem",
          "nem",
          "nem",
          "nem",
          "nem",
          "nem"
         ],
         "textposition": "top center",
         "type": "scatter",
         "x": [
          -65.33441162109375,
          4.832494258880615,
          -52.37893295288086,
          52.26055908203125,
          -6.166784286499023,
          94.27363586425781,
          70.42817687988281,
          -115.0769271850586,
          15.384943962097168,
          92.44123077392578,
          -44.72672653198242,
          80.36634063720703,
          26.203184127807617,
          57.95913314819336,
          51.33896255493164,
          31.599977493286133,
          72.8336410522461,
          -23.00391960144043,
          15.746245384216309,
          -21.811296463012695,
          26.925708770751953,
          -10.029909133911133,
          117.8460693359375
         ],
         "xaxis": "x",
         "y": [
          40.96516799926758,
          -74.161865234375,
          82.97303009033203,
          -82.26582336425781,
          3.9483399391174316,
          -57.51517105102539,
          81.98326873779297,
          74.74058532714844,
          33.927486419677734,
          42.915225982666016,
          2.622804641723633,
          137.1092071533203,
          110.55033111572266,
          -35.364952087402344,
          38.07884216308594,
          -0.6864389777183533,
          1.6803021430969238,
          138.67282104492188,
          -33.197509765625,
          40.96493911743164,
          68.79378509521484,
          82.85554504394531,
          -12.631965637207031
         ],
         "yaxis": "y"
        },
        {
         "customdata": [
          [
           54,
           5,
           "nem",
           [
            "elkenten",
            "megszövegezett",
            "gumiszabály",
            "csak",
            "arra",
            "lehet"
           ]
          ],
          [
           76,
           18,
           "nem",
           [
            ",",
            "és",
            "ha",
            ",",
            "akkor",
            "annak"
           ]
          ],
          [
           74,
           40,
           "nemcsak",
           [
            "magyar",
            "állam",
            "„",
            "garantálja",
            ",",
            "hanem"
           ]
          ]
         ],
         "hovertemplate": "cluster=1<br>tsne_x=%{x}<br>tsne_y=%{y}<br>word=%{customdata[2]}<br>sent_id=%{customdata[0]}<br>word_id=%{customdata[1]}<br>context=%{customdata[3]}<extra></extra>",
         "legendgroup": "1",
         "marker": {
          "color": "#EF553B",
          "symbol": "circle"
         },
         "mode": "markers+text",
         "name": "1",
         "orientation": "v",
         "showlegend": true,
         "text": [
          "nem",
          "nem",
          "nemcsak"
         ],
         "textposition": "top center",
         "type": "scatter",
         "x": [
          -23.294538497924805,
          -88.46244049072266,
          -152.56813049316406
         ],
         "xaxis": "x",
         "y": [
          -38.80923080444336,
          140.45530700683594,
          -109.1854476928711
         ],
         "yaxis": "y"
        },
        {
         "customdata": [
          [
           73,
           13,
           "nem",
           [
            "utóbbi",
            "EU-csúcson",
            "soha",
            "látott",
            "feszültséget",
            "eredményezett"
           ]
          ],
          [
           73,
           44,
           "nem",
           [
            "ha",
            "magyar",
            "kollégája",
            "osztja",
            "a",
            "közösség"
           ]
          ],
          [
           55,
           23,
           "nemfizetés",
           [
            "szálltak",
            "rá",
            "a",
            "miatt",
            "azokra",
            "a"
           ]
          ],
          [
           4,
           32,
           "nemi",
           [
            ",",
            "hiszen",
            "a",
            "identitás",
            "és",
            "a"
           ]
          ],
          [
           49,
           14,
           "nemi",
           [
            "szexuális",
            "orientációjában",
            ",",
            "identitásában",
            "kételkedő",
            "gyerek"
           ]
          ],
          [
           44,
           7,
           "nemnek",
           [
            "és/vagy",
            "a",
            "születési",
            "megfelelő",
            "önazonosságtól",
            "való"
           ]
          ],
          [
           36,
           7,
           "nemváltás",
           [
            "homoszexualitás",
            "és",
            "a",
            "népszerűsítését",
            "és",
            "megjelenítését"
           ]
          ],
          [
           14,
           11,
           "nemzetközi",
           [
            ",",
            "Európa",
            "legnagyobb",
            "gyermekjogi",
            "szervezete",
            ","
           ]
          ],
          [
           32,
           21,
           "nemzetközi",
           [
            "nézetek",
            ",",
            "vagyis",
            "szinten",
            "is",
            "sokan"
           ]
          ],
          [
           65,
           11,
           "nemzetközi",
           [
            "most",
            "elég",
            "nagy",
            "botrány",
            "lett",
            "."
           ]
          ],
          [
           77,
           10,
           "nemzetközi",
           [
            "ami",
            "a",
            "nagy",
            "sajtóvisszhang",
            "és",
            "üzengetés"
           ]
          ],
          [
           77,
           20,
           "nemzetközi",
           [
            "a",
            "napirendről",
            ",",
            "politikai",
            "következményei",
            "nem"
           ]
          ],
          [
           34,
           50,
           "nemükhöz",
           [
            "hogy",
            "a",
            "saját",
            "vonzódnak",
            "."
           ]
          ]
         ],
         "hovertemplate": "cluster=0<br>tsne_x=%{x}<br>tsne_y=%{y}<br>word=%{customdata[2]}<br>sent_id=%{customdata[0]}<br>word_id=%{customdata[1]}<br>context=%{customdata[3]}<extra></extra>",
         "legendgroup": "0",
         "marker": {
          "color": "#00cc96",
          "symbol": "circle"
         },
         "mode": "markers+text",
         "name": "0",
         "orientation": "v",
         "showlegend": true,
         "text": [
          "nem",
          "nem",
          "nemfizetés",
          "nemi",
          "nemi",
          "nemnek",
          "nemváltás",
          "nemzetközi",
          "nemzetközi",
          "nemzetközi",
          "nemzetközi",
          "nemzetközi",
          "nemükhöz"
         ],
         "textposition": "top center",
         "type": "scatter",
         "x": [
          -166.63302612304688,
          -129.2427978515625,
          149.07080078125,
          -34.61289978027344,
          -39.0189323425293,
          -95.02761840820312,
          -115.73028564453125,
          -93.37017059326172,
          -132.92263793945312,
          -70.84041595458984,
          -54.305171966552734,
          -88.86640167236328,
          15.592301368713379
         ],
         "xaxis": "x",
         "y": [
          -30.91417121887207,
          7.5323286056518555,
          44.094139099121094,
          -166.0132598876953,
          -129.05572509765625,
          -151.22030639648438,
          -48.13335418701172,
          -89.3311996459961,
          -90.85295104980469,
          -49.559722900390625,
          -82.5893325805664,
          -16.635379791259766,
          -134.0382843017578
         ],
         "yaxis": "y"
        }
       ],
       "layout": {
        "height": 800,
        "legend": {
         "title": {
          "text": "cluster"
         },
         "tracegroupgap": 0
        },
        "margin": {
         "t": 60
        },
        "template": {
         "data": {
          "bar": [
           {
            "error_x": {
             "color": "#2a3f5f"
            },
            "error_y": {
             "color": "#2a3f5f"
            },
            "marker": {
             "line": {
              "color": "#E5ECF6",
              "width": 0.5
             },
             "pattern": {
              "fillmode": "overlay",
              "size": 10,
              "solidity": 0.2
             }
            },
            "type": "bar"
           }
          ],
          "barpolar": [
           {
            "marker": {
             "line": {
              "color": "#E5ECF6",
              "width": 0.5
             },
             "pattern": {
              "fillmode": "overlay",
              "size": 10,
              "solidity": 0.2
             }
            },
            "type": "barpolar"
           }
          ],
          "carpet": [
           {
            "aaxis": {
             "endlinecolor": "#2a3f5f",
             "gridcolor": "white",
             "linecolor": "white",
             "minorgridcolor": "white",
             "startlinecolor": "#2a3f5f"
            },
            "baxis": {
             "endlinecolor": "#2a3f5f",
             "gridcolor": "white",
             "linecolor": "white",
             "minorgridcolor": "white",
             "startlinecolor": "#2a3f5f"
            },
            "type": "carpet"
           }
          ],
          "choropleth": [
           {
            "colorbar": {
             "outlinewidth": 0,
             "ticks": ""
            },
            "type": "choropleth"
           }
          ],
          "contour": [
           {
            "colorbar": {
             "outlinewidth": 0,
             "ticks": ""
            },
            "colorscale": [
             [
              0,
              "#0d0887"
             ],
             [
              0.1111111111111111,
              "#46039f"
             ],
             [
              0.2222222222222222,
              "#7201a8"
             ],
             [
              0.3333333333333333,
              "#9c179e"
             ],
             [
              0.4444444444444444,
              "#bd3786"
             ],
             [
              0.5555555555555556,
              "#d8576b"
             ],
             [
              0.6666666666666666,
              "#ed7953"
             ],
             [
              0.7777777777777778,
              "#fb9f3a"
             ],
             [
              0.8888888888888888,
              "#fdca26"
             ],
             [
              1,
              "#f0f921"
             ]
            ],
            "type": "contour"
           }
          ],
          "contourcarpet": [
           {
            "colorbar": {
             "outlinewidth": 0,
             "ticks": ""
            },
            "type": "contourcarpet"
           }
          ],
          "heatmap": [
           {
            "colorbar": {
             "outlinewidth": 0,
             "ticks": ""
            },
            "colorscale": [
             [
              0,
              "#0d0887"
             ],
             [
              0.1111111111111111,
              "#46039f"
             ],
             [
              0.2222222222222222,
              "#7201a8"
             ],
             [
              0.3333333333333333,
              "#9c179e"
             ],
             [
              0.4444444444444444,
              "#bd3786"
             ],
             [
              0.5555555555555556,
              "#d8576b"
             ],
             [
              0.6666666666666666,
              "#ed7953"
             ],
             [
              0.7777777777777778,
              "#fb9f3a"
             ],
             [
              0.8888888888888888,
              "#fdca26"
             ],
             [
              1,
              "#f0f921"
             ]
            ],
            "type": "heatmap"
           }
          ],
          "heatmapgl": [
           {
            "colorbar": {
             "outlinewidth": 0,
             "ticks": ""
            },
            "colorscale": [
             [
              0,
              "#0d0887"
             ],
             [
              0.1111111111111111,
              "#46039f"
             ],
             [
              0.2222222222222222,
              "#7201a8"
             ],
             [
              0.3333333333333333,
              "#9c179e"
             ],
             [
              0.4444444444444444,
              "#bd3786"
             ],
             [
              0.5555555555555556,
              "#d8576b"
             ],
             [
              0.6666666666666666,
              "#ed7953"
             ],
             [
              0.7777777777777778,
              "#fb9f3a"
             ],
             [
              0.8888888888888888,
              "#fdca26"
             ],
             [
              1,
              "#f0f921"
             ]
            ],
            "type": "heatmapgl"
           }
          ],
          "histogram": [
           {
            "marker": {
             "pattern": {
              "fillmode": "overlay",
              "size": 10,
              "solidity": 0.2
             }
            },
            "type": "histogram"
           }
          ],
          "histogram2d": [
           {
            "colorbar": {
             "outlinewidth": 0,
             "ticks": ""
            },
            "colorscale": [
             [
              0,
              "#0d0887"
             ],
             [
              0.1111111111111111,
              "#46039f"
             ],
             [
              0.2222222222222222,
              "#7201a8"
             ],
             [
              0.3333333333333333,
              "#9c179e"
             ],
             [
              0.4444444444444444,
              "#bd3786"
             ],
             [
              0.5555555555555556,
              "#d8576b"
             ],
             [
              0.6666666666666666,
              "#ed7953"
             ],
             [
              0.7777777777777778,
              "#fb9f3a"
             ],
             [
              0.8888888888888888,
              "#fdca26"
             ],
             [
              1,
              "#f0f921"
             ]
            ],
            "type": "histogram2d"
           }
          ],
          "histogram2dcontour": [
           {
            "colorbar": {
             "outlinewidth": 0,
             "ticks": ""
            },
            "colorscale": [
             [
              0,
              "#0d0887"
             ],
             [
              0.1111111111111111,
              "#46039f"
             ],
             [
              0.2222222222222222,
              "#7201a8"
             ],
             [
              0.3333333333333333,
              "#9c179e"
             ],
             [
              0.4444444444444444,
              "#bd3786"
             ],
             [
              0.5555555555555556,
              "#d8576b"
             ],
             [
              0.6666666666666666,
              "#ed7953"
             ],
             [
              0.7777777777777778,
              "#fb9f3a"
             ],
             [
              0.8888888888888888,
              "#fdca26"
             ],
             [
              1,
              "#f0f921"
             ]
            ],
            "type": "histogram2dcontour"
           }
          ],
          "mesh3d": [
           {
            "colorbar": {
             "outlinewidth": 0,
             "ticks": ""
            },
            "type": "mesh3d"
           }
          ],
          "parcoords": [
           {
            "line": {
             "colorbar": {
              "outlinewidth": 0,
              "ticks": ""
             }
            },
            "type": "parcoords"
           }
          ],
          "pie": [
           {
            "automargin": true,
            "type": "pie"
           }
          ],
          "scatter": [
           {
            "marker": {
             "colorbar": {
              "outlinewidth": 0,
              "ticks": ""
             }
            },
            "type": "scatter"
           }
          ],
          "scatter3d": [
           {
            "line": {
             "colorbar": {
              "outlinewidth": 0,
              "ticks": ""
             }
            },
            "marker": {
             "colorbar": {
              "outlinewidth": 0,
              "ticks": ""
             }
            },
            "type": "scatter3d"
           }
          ],
          "scattercarpet": [
           {
            "marker": {
             "colorbar": {
              "outlinewidth": 0,
              "ticks": ""
             }
            },
            "type": "scattercarpet"
           }
          ],
          "scattergeo": [
           {
            "marker": {
             "colorbar": {
              "outlinewidth": 0,
              "ticks": ""
             }
            },
            "type": "scattergeo"
           }
          ],
          "scattergl": [
           {
            "marker": {
             "colorbar": {
              "outlinewidth": 0,
              "ticks": ""
             }
            },
            "type": "scattergl"
           }
          ],
          "scattermapbox": [
           {
            "marker": {
             "colorbar": {
              "outlinewidth": 0,
              "ticks": ""
             }
            },
            "type": "scattermapbox"
           }
          ],
          "scatterpolar": [
           {
            "marker": {
             "colorbar": {
              "outlinewidth": 0,
              "ticks": ""
             }
            },
            "type": "scatterpolar"
           }
          ],
          "scatterpolargl": [
           {
            "marker": {
             "colorbar": {
              "outlinewidth": 0,
              "ticks": ""
             }
            },
            "type": "scatterpolargl"
           }
          ],
          "scatterternary": [
           {
            "marker": {
             "colorbar": {
              "outlinewidth": 0,
              "ticks": ""
             }
            },
            "type": "scatterternary"
           }
          ],
          "surface": [
           {
            "colorbar": {
             "outlinewidth": 0,
             "ticks": ""
            },
            "colorscale": [
             [
              0,
              "#0d0887"
             ],
             [
              0.1111111111111111,
              "#46039f"
             ],
             [
              0.2222222222222222,
              "#7201a8"
             ],
             [
              0.3333333333333333,
              "#9c179e"
             ],
             [
              0.4444444444444444,
              "#bd3786"
             ],
             [
              0.5555555555555556,
              "#d8576b"
             ],
             [
              0.6666666666666666,
              "#ed7953"
             ],
             [
              0.7777777777777778,
              "#fb9f3a"
             ],
             [
              0.8888888888888888,
              "#fdca26"
             ],
             [
              1,
              "#f0f921"
             ]
            ],
            "type": "surface"
           }
          ],
          "table": [
           {
            "cells": {
             "fill": {
              "color": "#EBF0F8"
             },
             "line": {
              "color": "white"
             }
            },
            "header": {
             "fill": {
              "color": "#C8D4E3"
             },
             "line": {
              "color": "white"
             }
            },
            "type": "table"
           }
          ]
         },
         "layout": {
          "annotationdefaults": {
           "arrowcolor": "#2a3f5f",
           "arrowhead": 0,
           "arrowwidth": 1
          },
          "autotypenumbers": "strict",
          "coloraxis": {
           "colorbar": {
            "outlinewidth": 0,
            "ticks": ""
           }
          },
          "colorscale": {
           "diverging": [
            [
             0,
             "#8e0152"
            ],
            [
             0.1,
             "#c51b7d"
            ],
            [
             0.2,
             "#de77ae"
            ],
            [
             0.3,
             "#f1b6da"
            ],
            [
             0.4,
             "#fde0ef"
            ],
            [
             0.5,
             "#f7f7f7"
            ],
            [
             0.6,
             "#e6f5d0"
            ],
            [
             0.7,
             "#b8e186"
            ],
            [
             0.8,
             "#7fbc41"
            ],
            [
             0.9,
             "#4d9221"
            ],
            [
             1,
             "#276419"
            ]
           ],
           "sequential": [
            [
             0,
             "#0d0887"
            ],
            [
             0.1111111111111111,
             "#46039f"
            ],
            [
             0.2222222222222222,
             "#7201a8"
            ],
            [
             0.3333333333333333,
             "#9c179e"
            ],
            [
             0.4444444444444444,
             "#bd3786"
            ],
            [
             0.5555555555555556,
             "#d8576b"
            ],
            [
             0.6666666666666666,
             "#ed7953"
            ],
            [
             0.7777777777777778,
             "#fb9f3a"
            ],
            [
             0.8888888888888888,
             "#fdca26"
            ],
            [
             1,
             "#f0f921"
            ]
           ],
           "sequentialminus": [
            [
             0,
             "#0d0887"
            ],
            [
             0.1111111111111111,
             "#46039f"
            ],
            [
             0.2222222222222222,
             "#7201a8"
            ],
            [
             0.3333333333333333,
             "#9c179e"
            ],
            [
             0.4444444444444444,
             "#bd3786"
            ],
            [
             0.5555555555555556,
             "#d8576b"
            ],
            [
             0.6666666666666666,
             "#ed7953"
            ],
            [
             0.7777777777777778,
             "#fb9f3a"
            ],
            [
             0.8888888888888888,
             "#fdca26"
            ],
            [
             1,
             "#f0f921"
            ]
           ]
          },
          "colorway": [
           "#636efa",
           "#EF553B",
           "#00cc96",
           "#ab63fa",
           "#FFA15A",
           "#19d3f3",
           "#FF6692",
           "#B6E880",
           "#FF97FF",
           "#FECB52"
          ],
          "font": {
           "color": "#2a3f5f"
          },
          "geo": {
           "bgcolor": "white",
           "lakecolor": "white",
           "landcolor": "#E5ECF6",
           "showlakes": true,
           "showland": true,
           "subunitcolor": "white"
          },
          "hoverlabel": {
           "align": "left"
          },
          "hovermode": "closest",
          "mapbox": {
           "style": "light"
          },
          "paper_bgcolor": "white",
          "plot_bgcolor": "#E5ECF6",
          "polar": {
           "angularaxis": {
            "gridcolor": "white",
            "linecolor": "white",
            "ticks": ""
           },
           "bgcolor": "#E5ECF6",
           "radialaxis": {
            "gridcolor": "white",
            "linecolor": "white",
            "ticks": ""
           }
          },
          "scene": {
           "xaxis": {
            "backgroundcolor": "#E5ECF6",
            "gridcolor": "white",
            "gridwidth": 2,
            "linecolor": "white",
            "showbackground": true,
            "ticks": "",
            "zerolinecolor": "white"
           },
           "yaxis": {
            "backgroundcolor": "#E5ECF6",
            "gridcolor": "white",
            "gridwidth": 2,
            "linecolor": "white",
            "showbackground": true,
            "ticks": "",
            "zerolinecolor": "white"
           },
           "zaxis": {
            "backgroundcolor": "#E5ECF6",
            "gridcolor": "white",
            "gridwidth": 2,
            "linecolor": "white",
            "showbackground": true,
            "ticks": "",
            "zerolinecolor": "white"
           }
          },
          "shapedefaults": {
           "line": {
            "color": "#2a3f5f"
           }
          },
          "ternary": {
           "aaxis": {
            "gridcolor": "white",
            "linecolor": "white",
            "ticks": ""
           },
           "baxis": {
            "gridcolor": "white",
            "linecolor": "white",
            "ticks": ""
           },
           "bgcolor": "#E5ECF6",
           "caxis": {
            "gridcolor": "white",
            "linecolor": "white",
            "ticks": ""
           }
          },
          "title": {
           "x": 0.05
          },
          "xaxis": {
           "automargin": true,
           "gridcolor": "white",
           "linecolor": "white",
           "ticks": "",
           "title": {
            "standoff": 15
           },
           "zerolinecolor": "white",
           "zerolinewidth": 2
          },
          "yaxis": {
           "automargin": true,
           "gridcolor": "white",
           "linecolor": "white",
           "ticks": "",
           "title": {
            "standoff": 15
           },
           "zerolinecolor": "white",
           "zerolinewidth": 2
          }
         }
        },
        "width": 800,
        "xaxis": {
         "anchor": "y",
         "autorange": true,
         "domain": [
          0,
          1
         ],
         "range": [
          -186.485993250274,
          168.92376790847712
         ],
         "title": {
          "text": "tsne_x"
         },
         "type": "linear"
        },
        "yaxis": {
         "anchor": "x",
         "autorange": true,
         "domain": [
          0,
          1
         ],
         "range": [
          -185.21653326088204,
          159.65858038002267
         ],
         "title": {
          "text": "tsne_y"
         },
         "type": "linear"
        }
       }
      },
      "image/png": "[encoded data removed]",
      "text/html": [
       "<div>                            <div id=\"9bd2c074-12ab-4e8e-97a5-54604d47c6ea\" class=\"plotly-graph-div\" style=\"height:800px; width:800px;\"></div>            <script type=\"text/javascript\">                require([\"plotly\"], function(Plotly) {                    window.PLOTLYENV=window.PLOTLYENV || {};                                    if (document.getElementById(\"9bd2c074-12ab-4e8e-97a5-54604d47c6ea\")) {                    Plotly.newPlot(                        \"9bd2c074-12ab-4e8e-97a5-54604d47c6ea\",                        [{\"customdata\":[[4,16,\"nem\",[\"sz\\u00f3ban\",\"forg\\u00f3\",\"r\\u00e9szlet\",\"\\u00e1ll\\u00edtja\",\",\",\"hogy\"]],[7,41,\"nem\",[\",\",\"de\",\"az\",\"v\\u00e9letlen\\u00fcl\",\"pedofilellenes\",\"tervezetk\\u00e9nt\"]],[8,12,\"nem\",[\"nyit\\u00f3besz\\u00e9d\\u00e9ben\",\"pedofilellenes\",\",\",\"pedig\",\"gyermekv\\u00e9delmi\",\"t\\u00f6rv\\u00e9nycsomagk\\u00e9nt\"]],[14,18,\"nem\",[\"a\",\"Eurochild\",\"szerint\",\"v\\u00e9di\",\"a\",\"gyerekeket\"]],[16,12,\"nem\",[\",\",\"a\",\"gyerekek\",\"jutnak\",\"hozz\\u00e1\",\"olyan\"]],[20,3,\"nem\",[\"Az\",\"iskolai\",\"nevel\\u00e9s\",\"\\u00e1llhat\",\"ellent\\u00e9tben\",\"a\"]],[21,24,\"nem\",[\"ker\\u00fcl\",\",\",\"\\u00e9s\",\"biztos\",\",\",\"hogy\"]],[24,1,\"nem\",[\"Arr\\u00f3l\",\"besz\\u00e9lve\",\",\",\"hogy\"]],[25,4,\"nem\",[\"sz\\u00fcl\\u0151k\",\",\",\"akik\",\"\\u00f6r\\u00fclnek\",\"annak\",\",\"]],[35,14,\"nem\",[\"szexualit\\u00e1s\",\"\\u00f6r\\u00f6mteli\",\"oldal\\u00e1ra\",\"igaz\\u00e1n\",\"f\\u00f3kusz\\u00e1l\\u00f3\",\"magyar\"]],[37,6,\"nem\",[\"ebbe\",\"\\u00e9s\",\"mi\",\"?\"]],[39,6,\"nem\",[\"am\\u00edg\",\"esetleg\",\"ki\",\"j\\u00f6n\",\"egy\",\",\"]],[40,29,\"nem\",[\"szab\\u00e1lyoz\\u00e1ssal\",\",\",\"szankci\\u00f3kkal\",\"akartak\",\"volna\",\"kik\\u00e9nyszer\\u00edteni\"]],[41,11,\"nem\",[\"v\\u00e9ve\",\"az\",\"iskol\\u00e1ban\",\"lehet\",\"tan\\u00edtani\",\"Rimbaud-t\"]],[50,14,\"nem\",[\"hozz\\u00e1\",\",\",\"mert\",\"b\\u00edzik\",\"az\",\"otthoniak\"]],[51,10,\"nem\",[\"megfelel\\u0151\",\"\\u2013\",\"kezel\\u00e9se\",\"\\u00e9letszer\\u0171\",\"pedag\\u00f3giai\",\"szempontb\\u00f3l\"]],[53,8,\"nem\",[\"forgat\\u00f3k\\u00f6nyvnek\",\",\",\"hogy\",\"lesz\",\".\"]],[55,18,\"nem\",[\"korm\\u00e1ny\",\",\",\"\\u00e9s\",\"is\",\"sz\\u00e1lltak\",\"r\\u00e1\"]],[57,4,\"nem\",[\"Fidesz\",\"korm\\u00e1nyz\\u00e1si\",\"st\\u00edlus\\u00e1t\\u00f3l\",\"idegen\",\",\",\"hogy\"]],[70,14,\"nem\",[\"hogy\",\"Orb\\u00e1n\",\"Viktor\",\"a\",\"helysz\\u00ednen\",\"n\\u00e9zte\"]],[74,5,\"nem\",[\"hogy\",\"a\",\"korm\\u00e1ny\",\"sz\\u00e1m\\u00edtott\",\"ilyen\",\"\\u00e9les\"]],[77,23,\"nem\",[\"nemzetk\\u00f6zi\",\"politikai\",\"k\\u00f6vetkezm\\u00e9nyei\",\"lettek\",\"(\",\"r\\u00f6vid\"]],[79,5,\"nem\",[\"azt\",\"is\",\",\",\"s\\u00e9rti\",\"-e\",\"az\"]]],\"hovertemplate\":\"cluster=2<br>tsne_x=%{x}<br>tsne_y=%{y}<br>word=%{customdata[2]}<br>sent_id=%{customdata[0]}<br>word_id=%{customdata[1]}<br>context=%{customdata[3]}<extra></extra>\",\"legendgroup\":\"2\",\"marker\":{\"color\":\"#636efa\",\"symbol\":\"circle\"},\"mode\":\"markers+text\",\"name\":\"2\",\"orientation\":\"v\",\"showlegend\":true,\"text\":[\"nem\",\"nem\",\"nem\",\"nem\",\"nem\",\"nem\",\"nem\",\"nem\",\"nem\",\"nem\",\"nem\",\"nem\",\"nem\",\"nem\",\"nem\",\"nem\",\"nem\",\"nem\",\"nem\",\"nem\",\"nem\",\"nem\",\"nem\"],\"textposition\":\"top center\",\"type\":\"scatter\",\"x\":[-65.33441162109375,4.832494258880615,-52.37893295288086,52.26055908203125,-6.166784286499023,94.27363586425781,70.42817687988281,-115.0769271850586,15.384943962097168,92.44123077392578,-44.72672653198242,80.36634063720703,26.203184127807617,57.95913314819336,51.33896255493164,31.599977493286133,72.8336410522461,-23.00391960144043,15.746245384216309,-21.811296463012695,26.925708770751953,-10.029909133911133,117.8460693359375],\"xaxis\":\"x\",\"y\":[40.96516799926758,-74.161865234375,82.97303009033203,-82.26582336425781,3.9483399391174316,-57.51517105102539,81.98326873779297,74.74058532714844,33.927486419677734,42.915225982666016,2.622804641723633,137.1092071533203,110.55033111572266,-35.364952087402344,38.07884216308594,-0.6864389777183533,1.6803021430969238,138.67282104492188,-33.197509765625,40.96493911743164,68.79378509521484,82.85554504394531,-12.631965637207031],\"yaxis\":\"y\"},{\"customdata\":[[54,5,\"nem\",[\"elkenten\",\"megsz\\u00f6vegezett\",\"gumiszab\\u00e1ly\",\"csak\",\"arra\",\"lehet\"]],[76,18,\"nem\",[\",\",\"\\u00e9s\",\"ha\",\",\",\"akkor\",\"annak\"]],[74,40,\"nemcsak\",[\"magyar\",\"\\u00e1llam\",\"\\u201e\",\"garant\\u00e1lja\",\",\",\"hanem\"]]],\"hovertemplate\":\"cluster=1<br>tsne_x=%{x}<br>tsne_y=%{y}<br>word=%{customdata[2]}<br>sent_id=%{customdata[0]}<br>word_id=%{customdata[1]}<br>context=%{customdata[3]}<extra></extra>\",\"legendgroup\":\"1\",\"marker\":{\"color\":\"#EF553B\",\"symbol\":\"circle\"},\"mode\":\"markers+text\",\"name\":\"1\",\"orientation\":\"v\",\"showlegend\":true,\"text\":[\"nem\",\"nem\",\"nemcsak\"],\"textposition\":\"top center\",\"type\":\"scatter\",\"x\":[-23.294538497924805,-88.46244049072266,-152.56813049316406],\"xaxis\":\"x\",\"y\":[-38.80923080444336,140.45530700683594,-109.1854476928711],\"yaxis\":\"y\"},{\"customdata\":[[73,13,\"nem\",[\"ut\\u00f3bbi\",\"EU-cs\\u00facson\",\"soha\",\"l\\u00e1tott\",\"fesz\\u00fclts\\u00e9get\",\"eredm\\u00e9nyezett\"]],[73,44,\"nem\",[\"ha\",\"magyar\",\"koll\\u00e9g\\u00e1ja\",\"osztja\",\"a\",\"k\\u00f6z\\u00f6ss\\u00e9g\"]],[55,23,\"nemfizet\\u00e9s\",[\"sz\\u00e1lltak\",\"r\\u00e1\",\"a\",\"miatt\",\"azokra\",\"a\"]],[4,32,\"nemi\",[\",\",\"hiszen\",\"a\",\"identit\\u00e1s\",\"\\u00e9s\",\"a\"]],[49,14,\"nemi\",[\"szexu\\u00e1lis\",\"orient\\u00e1ci\\u00f3j\\u00e1ban\",\",\",\"identit\\u00e1s\\u00e1ban\",\"k\\u00e9telked\\u0151\",\"gyerek\"]],[44,7,\"nemnek\",[\"\\u00e9s/vagy\",\"a\",\"sz\\u00fclet\\u00e9si\",\"megfelel\\u0151\",\"\\u00f6nazonoss\\u00e1gt\\u00f3l\",\"val\\u00f3\"]],[36,7,\"nemv\\u00e1lt\\u00e1s\",[\"homoszexualit\\u00e1s\",\"\\u00e9s\",\"a\",\"n\\u00e9pszer\\u0171s\\u00edt\\u00e9s\\u00e9t\",\"\\u00e9s\",\"megjelen\\u00edt\\u00e9s\\u00e9t\"]],[14,11,\"nemzetk\\u00f6zi\",[\",\",\"Eur\\u00f3pa\",\"legnagyobb\",\"gyermekjogi\",\"szervezete\",\",\"]],[32,21,\"nemzetk\\u00f6zi\",[\"n\\u00e9zetek\",\",\",\"vagyis\",\"szinten\",\"is\",\"sokan\"]],[65,11,\"nemzetk\\u00f6zi\",[\"most\",\"el\\u00e9g\",\"nagy\",\"botr\\u00e1ny\",\"lett\",\".\"]],[77,10,\"nemzetk\\u00f6zi\",[\"ami\",\"a\",\"nagy\",\"sajt\\u00f3visszhang\",\"\\u00e9s\",\"\\u00fczenget\\u00e9s\"]],[77,20,\"nemzetk\\u00f6zi\",[\"a\",\"napirendr\\u0151l\",\",\",\"politikai\",\"k\\u00f6vetkezm\\u00e9nyei\",\"nem\"]],[34,50,\"nem\\u00fckh\\u00f6z\",[\"hogy\",\"a\",\"saj\\u00e1t\",\"vonz\\u00f3dnak\",\".\"]]],\"hovertemplate\":\"cluster=0<br>tsne_x=%{x}<br>tsne_y=%{y}<br>word=%{customdata[2]}<br>sent_id=%{customdata[0]}<br>word_id=%{customdata[1]}<br>context=%{customdata[3]}<extra></extra>\",\"legendgroup\":\"0\",\"marker\":{\"color\":\"#00cc96\",\"symbol\":\"circle\"},\"mode\":\"markers+text\",\"name\":\"0\",\"orientation\":\"v\",\"showlegend\":true,\"text\":[\"nem\",\"nem\",\"nemfizet\\u00e9s\",\"nemi\",\"nemi\",\"nemnek\",\"nemv\\u00e1lt\\u00e1s\",\"nemzetk\\u00f6zi\",\"nemzetk\\u00f6zi\",\"nemzetk\\u00f6zi\",\"nemzetk\\u00f6zi\",\"nemzetk\\u00f6zi\",\"nem\\u00fckh\\u00f6z\"],\"textposition\":\"top center\",\"type\":\"scatter\",\"x\":[-166.63302612304688,-129.2427978515625,149.07080078125,-34.61289978027344,-39.0189323425293,-95.02761840820312,-115.73028564453125,-93.37017059326172,-132.92263793945312,-70.84041595458984,-54.305171966552734,-88.86640167236328,15.592301368713379],\"xaxis\":\"x\",\"y\":[-30.91417121887207,7.5323286056518555,44.094139099121094,-166.0132598876953,-129.05572509765625,-151.22030639648438,-48.13335418701172,-89.3311996459961,-90.85295104980469,-49.559722900390625,-82.5893325805664,-16.635379791259766,-134.0382843017578],\"yaxis\":\"y\"}],                        {\"height\":800,\"legend\":{\"title\":{\"text\":\"cluster\"},\"tracegroupgap\":0},\"margin\":{\"t\":60},\"template\":{\"data\":{\"bar\":[{\"error_x\":{\"color\":\"#2a3f5f\"},\"error_y\":{\"color\":\"#2a3f5f\"},\"marker\":{\"line\":{\"color\":\"#E5ECF6\",\"width\":0.5},\"pattern\":{\"fillmode\":\"overlay\",\"size\":10,\"solidity\":0.2}},\"type\":\"bar\"}],\"barpolar\":[{\"marker\":{\"line\":{\"color\":\"#E5ECF6\",\"width\":0.5},\"pattern\":{\"fillmode\":\"overlay\",\"size\":10,\"solidity\":0.2}},\"type\":\"barpolar\"}],\"carpet\":[{\"aaxis\":{\"endlinecolor\":\"#2a3f5f\",\"gridcolor\":\"white\",\"linecolor\":\"white\",\"minorgridcolor\":\"white\",\"startlinecolor\":\"#2a3f5f\"},\"baxis\":{\"endlinecolor\":\"#2a3f5f\",\"gridcolor\":\"white\",\"linecolor\":\"white\",\"minorgridcolor\":\"white\",\"startlinecolor\":\"#2a3f5f\"},\"type\":\"carpet\"}],\"choropleth\":[{\"colorbar\":{\"outlinewidth\":0,\"ticks\":\"\"},\"type\":\"choropleth\"}],\"contour\":[{\"colorbar\":{\"outlinewidth\":0,\"ticks\":\"\"},\"colorscale\":[[0.0,\"#0d0887\"],[0.1111111111111111,\"#46039f\"],[0.2222222222222222,\"#7201a8\"],[0.3333333333333333,\"#9c179e\"],[0.4444444444444444,\"#bd3786\"],[0.5555555555555556,\"#d8576b\"],[0.6666666666666666,\"#ed7953\"],[0.7777777777777778,\"#fb9f3a\"],[0.8888888888888888,\"#fdca26\"],[1.0,\"#f0f921\"]],\"type\":\"contour\"}],\"contourcarpet\":[{\"colorbar\":{\"outlinewidth\":0,\"ticks\":\"\"},\"type\":\"contourcarpet\"}],\"heatmap\":[{\"colorbar\":{\"outlinewidth\":0,\"ticks\":\"\"},\"colorscale\":[[0.0,\"#0d0887\"],[0.1111111111111111,\"#46039f\"],[0.2222222222222222,\"#7201a8\"],[0.3333333333333333,\"#9c179e\"],[0.4444444444444444,\"#bd3786\"],[0.5555555555555556,\"#d8576b\"],[0.6666666666666666,\"#ed7953\"],[0.7777777777777778,\"#fb9f3a\"],[0.8888888888888888,\"#fdca26\"],[1.0,\"#f0f921\"]],\"type\":\"heatmap\"}],\"heatmapgl\":[{\"colorbar\":{\"outlinewidth\":0,\"ticks\":\"\"},\"colorscale\":[[0.0,\"#0d0887\"],[0.1111111111111111,\"#46039f\"],[0.2222222222222222,\"#7201a8\"],[0.3333333333333333,\"#9c179e\"],[0.4444444444444444,\"#bd3786\"],[0.5555555555555556,\"#d8576b\"],[0.6666666666666666,\"#ed7953\"],[0.7777777777777778,\"#fb9f3a\"],[0.8888888888888888,\"#fdca26\"],[1.0,\"#f0f921\"]],\"type\":\"heatmapgl\"}],\"histogram\":[{\"marker\":{\"pattern\":{\"fillmode\":\"overlay\",\"size\":10,\"solidity\":0.2}},\"type\":\"histogram\"}],\"histogram2d\":[{\"colorbar\":{\"outlinewidth\":0,\"ticks\":\"\"},\"colorscale\":[[0.0,\"#0d0887\"],[0.1111111111111111,\"#46039f\"],[0.2222222222222222,\"#7201a8\"],[0.3333333333333333,\"#9c179e\"],[0.4444444444444444,\"#bd3786\"],[0.5555555555555556,\"#d8576b\"],[0.6666666666666666,\"#ed7953\"],[0.7777777777777778,\"#fb9f3a\"],[0.8888888888888888,\"#fdca26\"],[1.0,\"#f0f921\"]],\"type\":\"histogram2d\"}],\"histogram2dcontour\":[{\"colorbar\":{\"outlinewidth\":0,\"ticks\":\"\"},\"colorscale\":[[0.0,\"#0d0887\"],[0.1111111111111111,\"#46039f\"],[0.2222222222222222,\"#7201a8\"],[0.3333333333333333,\"#9c179e\"],[0.4444444444444444,\"#bd3786\"],[0.5555555555555556,\"#d8576b\"],[0.6666666666666666,\"#ed7953\"],[0.7777777777777778,\"#fb9f3a\"],[0.8888888888888888,\"#fdca26\"],[1.0,\"#f0f921\"]],\"type\":\"histogram2dcontour\"}],\"mesh3d\":[{\"colorbar\":{\"outlinewidth\":0,\"ticks\":\"\"},\"type\":\"mesh3d\"}],\"parcoords\":[{\"line\":{\"colorbar\":{\"outlinewidth\":0,\"ticks\":\"\"}},\"type\":\"parcoords\"}],\"pie\":[{\"automargin\":true,\"type\":\"pie\"}],\"scatter\":[{\"marker\":{\"colorbar\":{\"outlinewidth\":0,\"ticks\":\"\"}},\"type\":\"scatter\"}],\"scatter3d\":[{\"line\":{\"colorbar\":{\"outlinewidth\":0,\"ticks\":\"\"}},\"marker\":{\"colorbar\":{\"outlinewidth\":0,\"ticks\":\"\"}},\"type\":\"scatter3d\"}],\"scattercarpet\":[{\"marker\":{\"colorbar\":{\"outlinewidth\":0,\"ticks\":\"\"}},\"type\":\"scattercarpet\"}],\"scattergeo\":[{\"marker\":{\"colorbar\":{\"outlinewidth\":0,\"ticks\":\"\"}},\"type\":\"scattergeo\"}],\"scattergl\":[{\"marker\":{\"colorbar\":{\"outlinewidth\":0,\"ticks\":\"\"}},\"type\":\"scattergl\"}],\"scattermapbox\":[{\"marker\":{\"colorbar\":{\"outlinewidth\":0,\"ticks\":\"\"}},\"type\":\"scattermapbox\"}],\"scatterpolar\":[{\"marker\":{\"colorbar\":{\"outlinewidth\":0,\"ticks\":\"\"}},\"type\":\"scatterpolar\"}],\"scatterpolargl\":[{\"marker\":{\"colorbar\":{\"outlinewidth\":0,\"ticks\":\"\"}},\"type\":\"scatterpolargl\"}],\"scatterternary\":[{\"marker\":{\"colorbar\":{\"outlinewidth\":0,\"ticks\":\"\"}},\"type\":\"scatterternary\"}],\"surface\":[{\"colorbar\":{\"outlinewidth\":0,\"ticks\":\"\"},\"colorscale\":[[0.0,\"#0d0887\"],[0.1111111111111111,\"#46039f\"],[0.2222222222222222,\"#7201a8\"],[0.3333333333333333,\"#9c179e\"],[0.4444444444444444,\"#bd3786\"],[0.5555555555555556,\"#d8576b\"],[0.6666666666666666,\"#ed7953\"],[0.7777777777777778,\"#fb9f3a\"],[0.8888888888888888,\"#fdca26\"],[1.0,\"#f0f921\"]],\"type\":\"surface\"}],\"table\":[{\"cells\":{\"fill\":{\"color\":\"#EBF0F8\"},\"line\":{\"color\":\"white\"}},\"header\":{\"fill\":{\"color\":\"#C8D4E3\"},\"line\":{\"color\":\"white\"}},\"type\":\"table\"}]},\"layout\":{\"annotationdefaults\":{\"arrowcolor\":\"#2a3f5f\",\"arrowhead\":0,\"arrowwidth\":1},\"autotypenumbers\":\"strict\",\"coloraxis\":{\"colorbar\":{\"outlinewidth\":0,\"ticks\":\"\"}},\"colorscale\":{\"diverging\":[[0,\"#8e0152\"],[0.1,\"#c51b7d\"],[0.2,\"#de77ae\"],[0.3,\"#f1b6da\"],[0.4,\"#fde0ef\"],[0.5,\"#f7f7f7\"],[0.6,\"#e6f5d0\"],[0.7,\"#b8e186\"],[0.8,\"#7fbc41\"],[0.9,\"#4d9221\"],[1,\"#276419\"]],\"sequential\":[[0.0,\"#0d0887\"],[0.1111111111111111,\"#46039f\"],[0.2222222222222222,\"#7201a8\"],[0.3333333333333333,\"#9c179e\"],[0.4444444444444444,\"#bd3786\"],[0.5555555555555556,\"#d8576b\"],[0.6666666666666666,\"#ed7953\"],[0.7777777777777778,\"#fb9f3a\"],[0.8888888888888888,\"#fdca26\"],[1.0,\"#f0f921\"]],\"sequentialminus\":[[0.0,\"#0d0887\"],[0.1111111111111111,\"#46039f\"],[0.2222222222222222,\"#7201a8\"],[0.3333333333333333,\"#9c179e\"],[0.4444444444444444,\"#bd3786\"],[0.5555555555555556,\"#d8576b\"],[0.6666666666666666,\"#ed7953\"],[0.7777777777777778,\"#fb9f3a\"],[0.8888888888888888,\"#fdca26\"],[1.0,\"#f0f921\"]]},\"colorway\":[\"#636efa\",\"#EF553B\",\"#00cc96\",\"#ab63fa\",\"#FFA15A\",\"#19d3f3\",\"#FF6692\",\"#B6E880\",\"#FF97FF\",\"#FECB52\"],\"font\":{\"color\":\"#2a3f5f\"},\"geo\":{\"bgcolor\":\"white\",\"lakecolor\":\"white\",\"landcolor\":\"#E5ECF6\",\"showlakes\":true,\"showland\":true,\"subunitcolor\":\"white\"},\"hoverlabel\":{\"align\":\"left\"},\"hovermode\":\"closest\",\"mapbox\":{\"style\":\"light\"},\"paper_bgcolor\":\"white\",\"plot_bgcolor\":\"#E5ECF6\",\"polar\":{\"angularaxis\":{\"gridcolor\":\"white\",\"linecolor\":\"white\",\"ticks\":\"\"},\"bgcolor\":\"#E5ECF6\",\"radialaxis\":{\"gridcolor\":\"white\",\"linecolor\":\"white\",\"ticks\":\"\"}},\"scene\":{\"xaxis\":{\"backgroundcolor\":\"#E5ECF6\",\"gridcolor\":\"white\",\"gridwidth\":2,\"linecolor\":\"white\",\"showbackground\":true,\"ticks\":\"\",\"zerolinecolor\":\"white\"},\"yaxis\":{\"backgroundcolor\":\"#E5ECF6\",\"gridcolor\":\"white\",\"gridwidth\":2,\"linecolor\":\"white\",\"showbackground\":true,\"ticks\":\"\",\"zerolinecolor\":\"white\"},\"zaxis\":{\"backgroundcolor\":\"#E5ECF6\",\"gridcolor\":\"white\",\"gridwidth\":2,\"linecolor\":\"white\",\"showbackground\":true,\"ticks\":\"\",\"zerolinecolor\":\"white\"}},\"shapedefaults\":{\"line\":{\"color\":\"#2a3f5f\"}},\"ternary\":{\"aaxis\":{\"gridcolor\":\"white\",\"linecolor\":\"white\",\"ticks\":\"\"},\"baxis\":{\"gridcolor\":\"white\",\"linecolor\":\"white\",\"ticks\":\"\"},\"bgcolor\":\"#E5ECF6\",\"caxis\":{\"gridcolor\":\"white\",\"linecolor\":\"white\",\"ticks\":\"\"}},\"title\":{\"x\":0.05},\"xaxis\":{\"automargin\":true,\"gridcolor\":\"white\",\"linecolor\":\"white\",\"ticks\":\"\",\"title\":{\"standoff\":15},\"zerolinecolor\":\"white\",\"zerolinewidth\":2},\"yaxis\":{\"automargin\":true,\"gridcolor\":\"white\",\"linecolor\":\"white\",\"ticks\":\"\",\"title\":{\"standoff\":15},\"zerolinecolor\":\"white\",\"zerolinewidth\":2}}},\"width\":800,\"xaxis\":{\"anchor\":\"y\",\"domain\":[0.0,1.0],\"title\":{\"text\":\"tsne_x\"}},\"yaxis\":{\"anchor\":\"x\",\"domain\":[0.0,1.0],\"title\":{\"text\":\"tsne_y\"}}},                        {\"responsive\": true}                    ).then(function(){\n",
       "                            \n",
       "var gd = document.getElementById('9bd2c074-12ab-4e8e-97a5-54604d47c6ea');\n",
       "var x = new MutationObserver(function (mutations, observer) {{\n",
       "        var display = window.getComputedStyle(gd).display;\n",
       "        if (!display || display === 'none') {{\n",
       "            console.log([gd, 'removed!']);\n",
       "            Plotly.purge(gd);\n",
       "            observer.disconnect();\n",
       "        }}\n",
       "}});\n",
       "\n",
       "// Listen for the removal of the full notebook cells\n",
       "var notebookContainer = gd.closest('#notebook-container');\n",
       "if (notebookContainer) {{\n",
       "    x.observe(notebookContainer, {childList: true});\n",
       "}}\n",
       "\n",
       "// Listen for the clearing of the current output cell\n",
       "var outputEl = gd.closest('.output');\n",
       "if (outputEl) {{\n",
       "    x.observe(outputEl, {childList: true});\n",
       "}}\n",
       "\n",
       "                        })                };                });            </script>        </div>"
      ]
     },
     "metadata": {},
     "output_type": "display_data"
    }
   ],
   "source": [
    "fig = px.scatter(data_frame = df, x='tsne_x', y='tsne_y', color='cluster', \n",
    "                 hover_data=['sent_id', 'word_id', 'word', 'context'],\n",
    "                 text='word', width=800, height=800)\n",
    "\n",
    "fig.update_traces(textposition='top center')\n",
    "\n",
    "fig.show()\n"
   ]
  },
  {
   "cell_type": "code",
   "execution_count": 28,
   "id": "0b792c0e-1718-46c8-9447-7aac9d393421",
   "metadata": {},
   "outputs": [
    {
     "data": {
      "application/vnd.plotly.v1+json": {
       "config": {
        "plotlyServerURL": "https://plot.ly"
       },
       "data": [
        {
         "customdata": [
          [
           4,
           16,
           "nem",
           [
            "szóban",
            "forgó",
            "részlet",
            "állítja",
            ",",
            "hogy"
           ]
          ],
          [
           7,
           41,
           "nem",
           [
            ",",
            "de",
            "az",
            "véletlenül",
            "pedofilellenes",
            "tervezetként"
           ]
          ],
          [
           16,
           12,
           "nem",
           [
            ",",
            "a",
            "gyerekek",
            "jutnak",
            "hozzá",
            "olyan"
           ]
          ],
          [
           40,
           29,
           "nem",
           [
            "szabályozással",
            ",",
            "szankciókkal",
            "akartak",
            "volna",
            "kikényszeríteni"
           ]
          ],
          [
           50,
           14,
           "nem",
           [
            "hozzá",
            ",",
            "mert",
            "bízik",
            "az",
            "otthoniak"
           ]
          ],
          [
           55,
           18,
           "nem",
           [
            "kormány",
            ",",
            "és",
            "is",
            "szálltak",
            "rá"
           ]
          ],
          [
           57,
           4,
           "nem",
           [
            "Fidesz",
            "kormányzási",
            "stílusától",
            "idegen",
            ",",
            "hogy"
           ]
          ],
          [
           70,
           14,
           "nem",
           [
            "hogy",
            "Orbán",
            "Viktor",
            "a",
            "helyszínen",
            "nézte"
           ]
          ],
          [
           73,
           13,
           "nem",
           [
            "utóbbi",
            "EU-csúcson",
            "soha",
            "látott",
            "feszültséget",
            "eredményezett"
           ]
          ],
          [
           73,
           44,
           "nem",
           [
            "ha",
            "magyar",
            "kollégája",
            "osztja",
            "a",
            "közösség"
           ]
          ],
          [
           74,
           5,
           "nem",
           [
            "hogy",
            "a",
            "kormány",
            "számított",
            "ilyen",
            "éles"
           ]
          ],
          [
           77,
           23,
           "nem",
           [
            "nemzetközi",
            "politikai",
            "következményei",
            "lettek",
            "(",
            "rövid"
           ]
          ],
          [
           55,
           23,
           "nemfizetés",
           [
            "szálltak",
            "rá",
            "a",
            "miatt",
            "azokra",
            "a"
           ]
          ],
          [
           32,
           21,
           "nemzetközi",
           [
            "nézetek",
            ",",
            "vagyis",
            "szinten",
            "is",
            "sokan"
           ]
          ],
          [
           77,
           10,
           "nemzetközi",
           [
            "ami",
            "a",
            "nagy",
            "sajtóvisszhang",
            "és",
            "üzengetés"
           ]
          ],
          [
           77,
           20,
           "nemzetközi",
           [
            "a",
            "napirendről",
            ",",
            "politikai",
            "következményei",
            "nem"
           ]
          ],
          [
           34,
           50,
           "nemükhöz",
           [
            "hogy",
            "a",
            "saját",
            "vonzódnak",
            "."
           ]
          ]
         ],
         "hovertemplate": "context_label=1<br>tsne_context_x=%{x}<br>tsne_context_y=%{y}<br>word=%{customdata[2]}<br>sent_id=%{customdata[0]}<br>word_id=%{customdata[1]}<br>context=%{customdata[3]}<extra></extra>",
         "legendgroup": "1",
         "marker": {
          "color": "#636efa",
          "symbol": "circle"
         },
         "mode": "markers+text",
         "name": "1",
         "orientation": "v",
         "showlegend": true,
         "text": [
          "nem",
          "nem",
          "nem",
          "nem",
          "nem",
          "nem",
          "nem",
          "nem",
          "nem",
          "nem",
          "nem",
          "nem",
          "nemfizetés",
          "nemzetközi",
          "nemzetközi",
          "nemzetközi",
          "nemükhöz"
         ],
         "textposition": "top center",
         "type": "scatter",
         "x": [
          8.64697265625,
          15.49207878112793,
          51.82249069213867,
          -29.621583938598633,
          29.63530158996582,
          47.990638732910156,
          -4.6708784103393555,
          -47.03730392456055,
          -20.178194046020508,
          -75.1606674194336,
          -0.7227876782417297,
          78.0816421508789,
          68.83235931396484,
          38.02286148071289,
          -25.505130767822266,
          65.17797088623047,
          55.13111877441406
         ],
         "xaxis": "x",
         "y": [
          -43.304893493652344,
          10.765825271606445,
          38.702152252197266,
          -63.70505142211914,
          56.90531539916992,
          -6.713089466094971,
          1.0673091411590576,
          -24.773212432861328,
          -37.47974395751953,
          -14.229183197021484,
          -20.269983291625977,
          -73.92542266845703,
          -17.66017723083496,
          15.324405670166016,
          -12.619498252868652,
          -50.33638000488281,
          74.62248229980469
         ],
         "yaxis": "y"
        },
        {
         "customdata": [
          [
           8,
           12,
           "nem",
           [
            "nyitóbeszédében",
            "pedofilellenes",
            ",",
            "pedig",
            "gyermekvédelmi",
            "törvénycsomagként"
           ]
          ],
          [
           14,
           18,
           "nem",
           [
            "a",
            "Eurochild",
            "szerint",
            "védi",
            "a",
            "gyerekeket"
           ]
          ],
          [
           20,
           3,
           "nem",
           [
            "Az",
            "iskolai",
            "nevelés",
            "állhat",
            "ellentétben",
            "a"
           ]
          ],
          [
           35,
           14,
           "nem",
           [
            "szexualitás",
            "örömteli",
            "oldalára",
            "igazán",
            "fókuszáló",
            "magyar"
           ]
          ],
          [
           41,
           11,
           "nem",
           [
            "véve",
            "az",
            "iskolában",
            "lehet",
            "tanítani",
            "Rimbaud-t"
           ]
          ],
          [
           51,
           10,
           "nem",
           [
            "megfelelő",
            "–",
            "kezelése",
            "életszerű",
            "pedagógiai",
            "szempontból"
           ]
          ],
          [
           74,
           40,
           "nemcsak",
           [
            "magyar",
            "állam",
            "„",
            "garantálja",
            ",",
            "hanem"
           ]
          ],
          [
           4,
           32,
           "nemi",
           [
            ",",
            "hiszen",
            "a",
            "identitás",
            "és",
            "a"
           ]
          ],
          [
           49,
           14,
           "nemi",
           [
            "szexuális",
            "orientációjában",
            ",",
            "identitásában",
            "kételkedő",
            "gyerek"
           ]
          ],
          [
           44,
           7,
           "nemnek",
           [
            "és/vagy",
            "a",
            "születési",
            "megfelelő",
            "önazonosságtól",
            "való"
           ]
          ],
          [
           36,
           7,
           "nemváltás",
           [
            "homoszexualitás",
            "és",
            "a",
            "népszerűsítését",
            "és",
            "megjelenítését"
           ]
          ],
          [
           14,
           11,
           "nemzetközi",
           [
            ",",
            "Európa",
            "legnagyobb",
            "gyermekjogi",
            "szervezete",
            ","
           ]
          ]
         ],
         "hovertemplate": "context_label=0<br>tsne_context_x=%{x}<br>tsne_context_y=%{y}<br>word=%{customdata[2]}<br>sent_id=%{customdata[0]}<br>word_id=%{customdata[1]}<br>context=%{customdata[3]}<extra></extra>",
         "legendgroup": "0",
         "marker": {
          "color": "#EF553B",
          "symbol": "circle"
         },
         "mode": "markers+text",
         "name": "0",
         "orientation": "v",
         "showlegend": true,
         "text": [
          "nem",
          "nem",
          "nem",
          "nem",
          "nem",
          "nem",
          "nemcsak",
          "nemi",
          "nemi",
          "nemnek",
          "nemváltás",
          "nemzetközi"
         ],
         "textposition": "top center",
         "type": "scatter",
         "x": [
          -47.48276138305664,
          -26.15962028503418,
          -52.27437973022461,
          -70.70985412597656,
          -63.34712219238281,
          -28.514726638793945,
          -81.83039855957031,
          14.808868408203125,
          -19.333593368530273,
          -45.727935791015625,
          -2.4205572605133057,
          -9.492183685302734
         ],
         "xaxis": "x",
         "y": [
          36.219268798828125,
          46.27295684814453,
          8.992243766784668,
          55.458648681640625,
          -48.35639190673828,
          13.640631675720215,
          21.31607437133789,
          34.803462982177734,
          74.52332305908203,
          70.26374053955078,
          54.28494644165039,
          26.62222671508789
         ],
         "yaxis": "y"
        },
        {
         "customdata": [
          [
           21,
           24,
           "nem",
           [
            "kerül",
            ",",
            "és",
            "biztos",
            ",",
            "hogy"
           ]
          ],
          [
           24,
           1,
           "nem",
           [
            "Arról",
            "beszélve",
            ",",
            "hogy"
           ]
          ],
          [
           25,
           4,
           "nem",
           [
            "szülők",
            ",",
            "akik",
            "örülnek",
            "annak",
            ","
           ]
          ],
          [
           37,
           6,
           "nem",
           [
            "ebbe",
            "és",
            "mi",
            "?"
           ]
          ],
          [
           39,
           6,
           "nem",
           [
            "amíg",
            "esetleg",
            "ki",
            "jön",
            "egy",
            ","
           ]
          ],
          [
           53,
           8,
           "nem",
           [
            "forgatókönyvnek",
            ",",
            "hogy",
            "lesz",
            "."
           ]
          ],
          [
           54,
           5,
           "nem",
           [
            "elkenten",
            "megszövegezett",
            "gumiszabály",
            "csak",
            "arra",
            "lehet"
           ]
          ],
          [
           76,
           18,
           "nem",
           [
            ",",
            "és",
            "ha",
            ",",
            "akkor",
            "annak"
           ]
          ],
          [
           79,
           5,
           "nem",
           [
            "azt",
            "is",
            ",",
            "sérti",
            "-e",
            "az"
           ]
          ],
          [
           65,
           11,
           "nemzetközi",
           [
            "most",
            "elég",
            "nagy",
            "botrány",
            "lett",
            "."
           ]
          ]
         ],
         "hovertemplate": "context_label=2<br>tsne_context_x=%{x}<br>tsne_context_y=%{y}<br>word=%{customdata[2]}<br>sent_id=%{customdata[0]}<br>word_id=%{customdata[1]}<br>context=%{customdata[3]}<extra></extra>",
         "legendgroup": "2",
         "marker": {
          "color": "#00cc96",
          "symbol": "circle"
         },
         "mode": "markers+text",
         "name": "2",
         "orientation": "v",
         "showlegend": true,
         "text": [
          "nem",
          "nem",
          "nem",
          "nem",
          "nem",
          "nem",
          "nem",
          "nem",
          "nem",
          "nemzetközi"
         ],
         "textposition": "top center",
         "type": "scatter",
         "x": [
          97.25149536132812,
          40.58692169189453,
          33.86932373046875,
          1.6024787425994873,
          101.78497314453125,
          87.47293853759766,
          21.388473510742188,
          42.038482666015625,
          21.79297637939453,
          70.92212677001953
         ],
         "xaxis": "x",
         "y": [
          -35.144351959228516,
          -89.71371459960938,
          -55.98733139038086,
          -79.00934600830078,
          -1.24626886844635,
          35.64914321899414,
          -14.573095321655273,
          -29.832197189331055,
          96.86688232421875,
          9.79646110534668
         ],
         "yaxis": "y"
        }
       ],
       "layout": {
        "height": 800,
        "legend": {
         "title": {
          "text": "context_label"
         },
         "tracegroupgap": 0
        },
        "margin": {
         "t": 60
        },
        "template": {
         "data": {
          "bar": [
           {
            "error_x": {
             "color": "#2a3f5f"
            },
            "error_y": {
             "color": "#2a3f5f"
            },
            "marker": {
             "line": {
              "color": "#E5ECF6",
              "width": 0.5
             },
             "pattern": {
              "fillmode": "overlay",
              "size": 10,
              "solidity": 0.2
             }
            },
            "type": "bar"
           }
          ],
          "barpolar": [
           {
            "marker": {
             "line": {
              "color": "#E5ECF6",
              "width": 0.5
             },
             "pattern": {
              "fillmode": "overlay",
              "size": 10,
              "solidity": 0.2
             }
            },
            "type": "barpolar"
           }
          ],
          "carpet": [
           {
            "aaxis": {
             "endlinecolor": "#2a3f5f",
             "gridcolor": "white",
             "linecolor": "white",
             "minorgridcolor": "white",
             "startlinecolor": "#2a3f5f"
            },
            "baxis": {
             "endlinecolor": "#2a3f5f",
             "gridcolor": "white",
             "linecolor": "white",
             "minorgridcolor": "white",
             "startlinecolor": "#2a3f5f"
            },
            "type": "carpet"
           }
          ],
          "choropleth": [
           {
            "colorbar": {
             "outlinewidth": 0,
             "ticks": ""
            },
            "type": "choropleth"
           }
          ],
          "contour": [
           {
            "colorbar": {
             "outlinewidth": 0,
             "ticks": ""
            },
            "colorscale": [
             [
              0,
              "#0d0887"
             ],
             [
              0.1111111111111111,
              "#46039f"
             ],
             [
              0.2222222222222222,
              "#7201a8"
             ],
             [
              0.3333333333333333,
              "#9c179e"
             ],
             [
              0.4444444444444444,
              "#bd3786"
             ],
             [
              0.5555555555555556,
              "#d8576b"
             ],
             [
              0.6666666666666666,
              "#ed7953"
             ],
             [
              0.7777777777777778,
              "#fb9f3a"
             ],
             [
              0.8888888888888888,
              "#fdca26"
             ],
             [
              1,
              "#f0f921"
             ]
            ],
            "type": "contour"
           }
          ],
          "contourcarpet": [
           {
            "colorbar": {
             "outlinewidth": 0,
             "ticks": ""
            },
            "type": "contourcarpet"
           }
          ],
          "heatmap": [
           {
            "colorbar": {
             "outlinewidth": 0,
             "ticks": ""
            },
            "colorscale": [
             [
              0,
              "#0d0887"
             ],
             [
              0.1111111111111111,
              "#46039f"
             ],
             [
              0.2222222222222222,
              "#7201a8"
             ],
             [
              0.3333333333333333,
              "#9c179e"
             ],
             [
              0.4444444444444444,
              "#bd3786"
             ],
             [
              0.5555555555555556,
              "#d8576b"
             ],
             [
              0.6666666666666666,
              "#ed7953"
             ],
             [
              0.7777777777777778,
              "#fb9f3a"
             ],
             [
              0.8888888888888888,
              "#fdca26"
             ],
             [
              1,
              "#f0f921"
             ]
            ],
            "type": "heatmap"
           }
          ],
          "heatmapgl": [
           {
            "colorbar": {
             "outlinewidth": 0,
             "ticks": ""
            },
            "colorscale": [
             [
              0,
              "#0d0887"
             ],
             [
              0.1111111111111111,
              "#46039f"
             ],
             [
              0.2222222222222222,
              "#7201a8"
             ],
             [
              0.3333333333333333,
              "#9c179e"
             ],
             [
              0.4444444444444444,
              "#bd3786"
             ],
             [
              0.5555555555555556,
              "#d8576b"
             ],
             [
              0.6666666666666666,
              "#ed7953"
             ],
             [
              0.7777777777777778,
              "#fb9f3a"
             ],
             [
              0.8888888888888888,
              "#fdca26"
             ],
             [
              1,
              "#f0f921"
             ]
            ],
            "type": "heatmapgl"
           }
          ],
          "histogram": [
           {
            "marker": {
             "pattern": {
              "fillmode": "overlay",
              "size": 10,
              "solidity": 0.2
             }
            },
            "type": "histogram"
           }
          ],
          "histogram2d": [
           {
            "colorbar": {
             "outlinewidth": 0,
             "ticks": ""
            },
            "colorscale": [
             [
              0,
              "#0d0887"
             ],
             [
              0.1111111111111111,
              "#46039f"
             ],
             [
              0.2222222222222222,
              "#7201a8"
             ],
             [
              0.3333333333333333,
              "#9c179e"
             ],
             [
              0.4444444444444444,
              "#bd3786"
             ],
             [
              0.5555555555555556,
              "#d8576b"
             ],
             [
              0.6666666666666666,
              "#ed7953"
             ],
             [
              0.7777777777777778,
              "#fb9f3a"
             ],
             [
              0.8888888888888888,
              "#fdca26"
             ],
             [
              1,
              "#f0f921"
             ]
            ],
            "type": "histogram2d"
           }
          ],
          "histogram2dcontour": [
           {
            "colorbar": {
             "outlinewidth": 0,
             "ticks": ""
            },
            "colorscale": [
             [
              0,
              "#0d0887"
             ],
             [
              0.1111111111111111,
              "#46039f"
             ],
             [
              0.2222222222222222,
              "#7201a8"
             ],
             [
              0.3333333333333333,
              "#9c179e"
             ],
             [
              0.4444444444444444,
              "#bd3786"
             ],
             [
              0.5555555555555556,
              "#d8576b"
             ],
             [
              0.6666666666666666,
              "#ed7953"
             ],
             [
              0.7777777777777778,
              "#fb9f3a"
             ],
             [
              0.8888888888888888,
              "#fdca26"
             ],
             [
              1,
              "#f0f921"
             ]
            ],
            "type": "histogram2dcontour"
           }
          ],
          "mesh3d": [
           {
            "colorbar": {
             "outlinewidth": 0,
             "ticks": ""
            },
            "type": "mesh3d"
           }
          ],
          "parcoords": [
           {
            "line": {
             "colorbar": {
              "outlinewidth": 0,
              "ticks": ""
             }
            },
            "type": "parcoords"
           }
          ],
          "pie": [
           {
            "automargin": true,
            "type": "pie"
           }
          ],
          "scatter": [
           {
            "marker": {
             "colorbar": {
              "outlinewidth": 0,
              "ticks": ""
             }
            },
            "type": "scatter"
           }
          ],
          "scatter3d": [
           {
            "line": {
             "colorbar": {
              "outlinewidth": 0,
              "ticks": ""
             }
            },
            "marker": {
             "colorbar": {
              "outlinewidth": 0,
              "ticks": ""
             }
            },
            "type": "scatter3d"
           }
          ],
          "scattercarpet": [
           {
            "marker": {
             "colorbar": {
              "outlinewidth": 0,
              "ticks": ""
             }
            },
            "type": "scattercarpet"
           }
          ],
          "scattergeo": [
           {
            "marker": {
             "colorbar": {
              "outlinewidth": 0,
              "ticks": ""
             }
            },
            "type": "scattergeo"
           }
          ],
          "scattergl": [
           {
            "marker": {
             "colorbar": {
              "outlinewidth": 0,
              "ticks": ""
             }
            },
            "type": "scattergl"
           }
          ],
          "scattermapbox": [
           {
            "marker": {
             "colorbar": {
              "outlinewidth": 0,
              "ticks": ""
             }
            },
            "type": "scattermapbox"
           }
          ],
          "scatterpolar": [
           {
            "marker": {
             "colorbar": {
              "outlinewidth": 0,
              "ticks": ""
             }
            },
            "type": "scatterpolar"
           }
          ],
          "scatterpolargl": [
           {
            "marker": {
             "colorbar": {
              "outlinewidth": 0,
              "ticks": ""
             }
            },
            "type": "scatterpolargl"
           }
          ],
          "scatterternary": [
           {
            "marker": {
             "colorbar": {
              "outlinewidth": 0,
              "ticks": ""
             }
            },
            "type": "scatterternary"
           }
          ],
          "surface": [
           {
            "colorbar": {
             "outlinewidth": 0,
             "ticks": ""
            },
            "colorscale": [
             [
              0,
              "#0d0887"
             ],
             [
              0.1111111111111111,
              "#46039f"
             ],
             [
              0.2222222222222222,
              "#7201a8"
             ],
             [
              0.3333333333333333,
              "#9c179e"
             ],
             [
              0.4444444444444444,
              "#bd3786"
             ],
             [
              0.5555555555555556,
              "#d8576b"
             ],
             [
              0.6666666666666666,
              "#ed7953"
             ],
             [
              0.7777777777777778,
              "#fb9f3a"
             ],
             [
              0.8888888888888888,
              "#fdca26"
             ],
             [
              1,
              "#f0f921"
             ]
            ],
            "type": "surface"
           }
          ],
          "table": [
           {
            "cells": {
             "fill": {
              "color": "#EBF0F8"
             },
             "line": {
              "color": "white"
             }
            },
            "header": {
             "fill": {
              "color": "#C8D4E3"
             },
             "line": {
              "color": "white"
             }
            },
            "type": "table"
           }
          ]
         },
         "layout": {
          "annotationdefaults": {
           "arrowcolor": "#2a3f5f",
           "arrowhead": 0,
           "arrowwidth": 1
          },
          "autotypenumbers": "strict",
          "coloraxis": {
           "colorbar": {
            "outlinewidth": 0,
            "ticks": ""
           }
          },
          "colorscale": {
           "diverging": [
            [
             0,
             "#8e0152"
            ],
            [
             0.1,
             "#c51b7d"
            ],
            [
             0.2,
             "#de77ae"
            ],
            [
             0.3,
             "#f1b6da"
            ],
            [
             0.4,
             "#fde0ef"
            ],
            [
             0.5,
             "#f7f7f7"
            ],
            [
             0.6,
             "#e6f5d0"
            ],
            [
             0.7,
             "#b8e186"
            ],
            [
             0.8,
             "#7fbc41"
            ],
            [
             0.9,
             "#4d9221"
            ],
            [
             1,
             "#276419"
            ]
           ],
           "sequential": [
            [
             0,
             "#0d0887"
            ],
            [
             0.1111111111111111,
             "#46039f"
            ],
            [
             0.2222222222222222,
             "#7201a8"
            ],
            [
             0.3333333333333333,
             "#9c179e"
            ],
            [
             0.4444444444444444,
             "#bd3786"
            ],
            [
             0.5555555555555556,
             "#d8576b"
            ],
            [
             0.6666666666666666,
             "#ed7953"
            ],
            [
             0.7777777777777778,
             "#fb9f3a"
            ],
            [
             0.8888888888888888,
             "#fdca26"
            ],
            [
             1,
             "#f0f921"
            ]
           ],
           "sequentialminus": [
            [
             0,
             "#0d0887"
            ],
            [
             0.1111111111111111,
             "#46039f"
            ],
            [
             0.2222222222222222,
             "#7201a8"
            ],
            [
             0.3333333333333333,
             "#9c179e"
            ],
            [
             0.4444444444444444,
             "#bd3786"
            ],
            [
             0.5555555555555556,
             "#d8576b"
            ],
            [
             0.6666666666666666,
             "#ed7953"
            ],
            [
             0.7777777777777778,
             "#fb9f3a"
            ],
            [
             0.8888888888888888,
             "#fdca26"
            ],
            [
             1,
             "#f0f921"
            ]
           ]
          },
          "colorway": [
           "#636efa",
           "#EF553B",
           "#00cc96",
           "#ab63fa",
           "#FFA15A",
           "#19d3f3",
           "#FF6692",
           "#B6E880",
           "#FF97FF",
           "#FECB52"
          ],
          "font": {
           "color": "#2a3f5f"
          },
          "geo": {
           "bgcolor": "white",
           "lakecolor": "white",
           "landcolor": "#E5ECF6",
           "showlakes": true,
           "showland": true,
           "subunitcolor": "white"
          },
          "hoverlabel": {
           "align": "left"
          },
          "hovermode": "closest",
          "mapbox": {
           "style": "light"
          },
          "paper_bgcolor": "white",
          "plot_bgcolor": "#E5ECF6",
          "polar": {
           "angularaxis": {
            "gridcolor": "white",
            "linecolor": "white",
            "ticks": ""
           },
           "bgcolor": "#E5ECF6",
           "radialaxis": {
            "gridcolor": "white",
            "linecolor": "white",
            "ticks": ""
           }
          },
          "scene": {
           "xaxis": {
            "backgroundcolor": "#E5ECF6",
            "gridcolor": "white",
            "gridwidth": 2,
            "linecolor": "white",
            "showbackground": true,
            "ticks": "",
            "zerolinecolor": "white"
           },
           "yaxis": {
            "backgroundcolor": "#E5ECF6",
            "gridcolor": "white",
            "gridwidth": 2,
            "linecolor": "white",
            "showbackground": true,
            "ticks": "",
            "zerolinecolor": "white"
           },
           "zaxis": {
            "backgroundcolor": "#E5ECF6",
            "gridcolor": "white",
            "gridwidth": 2,
            "linecolor": "white",
            "showbackground": true,
            "ticks": "",
            "zerolinecolor": "white"
           }
          },
          "shapedefaults": {
           "line": {
            "color": "#2a3f5f"
           }
          },
          "ternary": {
           "aaxis": {
            "gridcolor": "white",
            "linecolor": "white",
            "ticks": ""
           },
           "baxis": {
            "gridcolor": "white",
            "linecolor": "white",
            "ticks": ""
           },
           "bgcolor": "#E5ECF6",
           "caxis": {
            "gridcolor": "white",
            "linecolor": "white",
            "ticks": ""
           }
          },
          "title": {
           "x": 0.05
          },
          "xaxis": {
           "automargin": true,
           "gridcolor": "white",
           "linecolor": "white",
           "ticks": "",
           "title": {
            "standoff": 15
           },
           "zerolinecolor": "white",
           "zerolinewidth": 2
          },
          "yaxis": {
           "automargin": true,
           "gridcolor": "white",
           "linecolor": "white",
           "ticks": "",
           "title": {
            "standoff": 15
           },
           "zerolinecolor": "white",
           "zerolinewidth": 2
          }
         }
        },
        "width": 800,
        "xaxis": {
         "anchor": "y",
         "autorange": true,
         "domain": [
          0,
          1
         ],
         "range": [
          -93.44646535994079,
          113.40103994490173
         ],
         "title": {
          "text": "tsne_context_x"
         },
         "type": "linear"
        },
        "yaxis": {
         "anchor": "x",
         "autorange": true,
         "domain": [
          0,
          1
         ],
         "range": [
          -101.4048261715628,
          108.55799389617218
         ],
         "title": {
          "text": "tsne_context_y"
         },
         "type": "linear"
        }
       }
      },
      "image/png": "[encoded data removed]",
      "text/html": [
       "<div>                            <div id=\"9d5c302a-9011-451a-89c7-ea8c1ccb3a99\" class=\"plotly-graph-div\" style=\"height:800px; width:800px;\"></div>            <script type=\"text/javascript\">                require([\"plotly\"], function(Plotly) {                    window.PLOTLYENV=window.PLOTLYENV || {};                                    if (document.getElementById(\"9d5c302a-9011-451a-89c7-ea8c1ccb3a99\")) {                    Plotly.newPlot(                        \"9d5c302a-9011-451a-89c7-ea8c1ccb3a99\",                        [{\"customdata\":[[4,16,\"nem\",[\"sz\\u00f3ban\",\"forg\\u00f3\",\"r\\u00e9szlet\",\"\\u00e1ll\\u00edtja\",\",\",\"hogy\"]],[7,41,\"nem\",[\",\",\"de\",\"az\",\"v\\u00e9letlen\\u00fcl\",\"pedofilellenes\",\"tervezetk\\u00e9nt\"]],[16,12,\"nem\",[\",\",\"a\",\"gyerekek\",\"jutnak\",\"hozz\\u00e1\",\"olyan\"]],[40,29,\"nem\",[\"szab\\u00e1lyoz\\u00e1ssal\",\",\",\"szankci\\u00f3kkal\",\"akartak\",\"volna\",\"kik\\u00e9nyszer\\u00edteni\"]],[50,14,\"nem\",[\"hozz\\u00e1\",\",\",\"mert\",\"b\\u00edzik\",\"az\",\"otthoniak\"]],[55,18,\"nem\",[\"korm\\u00e1ny\",\",\",\"\\u00e9s\",\"is\",\"sz\\u00e1lltak\",\"r\\u00e1\"]],[57,4,\"nem\",[\"Fidesz\",\"korm\\u00e1nyz\\u00e1si\",\"st\\u00edlus\\u00e1t\\u00f3l\",\"idegen\",\",\",\"hogy\"]],[70,14,\"nem\",[\"hogy\",\"Orb\\u00e1n\",\"Viktor\",\"a\",\"helysz\\u00ednen\",\"n\\u00e9zte\"]],[73,13,\"nem\",[\"ut\\u00f3bbi\",\"EU-cs\\u00facson\",\"soha\",\"l\\u00e1tott\",\"fesz\\u00fclts\\u00e9get\",\"eredm\\u00e9nyezett\"]],[73,44,\"nem\",[\"ha\",\"magyar\",\"koll\\u00e9g\\u00e1ja\",\"osztja\",\"a\",\"k\\u00f6z\\u00f6ss\\u00e9g\"]],[74,5,\"nem\",[\"hogy\",\"a\",\"korm\\u00e1ny\",\"sz\\u00e1m\\u00edtott\",\"ilyen\",\"\\u00e9les\"]],[77,23,\"nem\",[\"nemzetk\\u00f6zi\",\"politikai\",\"k\\u00f6vetkezm\\u00e9nyei\",\"lettek\",\"(\",\"r\\u00f6vid\"]],[55,23,\"nemfizet\\u00e9s\",[\"sz\\u00e1lltak\",\"r\\u00e1\",\"a\",\"miatt\",\"azokra\",\"a\"]],[32,21,\"nemzetk\\u00f6zi\",[\"n\\u00e9zetek\",\",\",\"vagyis\",\"szinten\",\"is\",\"sokan\"]],[77,10,\"nemzetk\\u00f6zi\",[\"ami\",\"a\",\"nagy\",\"sajt\\u00f3visszhang\",\"\\u00e9s\",\"\\u00fczenget\\u00e9s\"]],[77,20,\"nemzetk\\u00f6zi\",[\"a\",\"napirendr\\u0151l\",\",\",\"politikai\",\"k\\u00f6vetkezm\\u00e9nyei\",\"nem\"]],[34,50,\"nem\\u00fckh\\u00f6z\",[\"hogy\",\"a\",\"saj\\u00e1t\",\"vonz\\u00f3dnak\",\".\"]]],\"hovertemplate\":\"context_label=1<br>tsne_context_x=%{x}<br>tsne_context_y=%{y}<br>word=%{customdata[2]}<br>sent_id=%{customdata[0]}<br>word_id=%{customdata[1]}<br>context=%{customdata[3]}<extra></extra>\",\"legendgroup\":\"1\",\"marker\":{\"color\":\"#636efa\",\"symbol\":\"circle\"},\"mode\":\"markers+text\",\"name\":\"1\",\"orientation\":\"v\",\"showlegend\":true,\"text\":[\"nem\",\"nem\",\"nem\",\"nem\",\"nem\",\"nem\",\"nem\",\"nem\",\"nem\",\"nem\",\"nem\",\"nem\",\"nemfizet\\u00e9s\",\"nemzetk\\u00f6zi\",\"nemzetk\\u00f6zi\",\"nemzetk\\u00f6zi\",\"nem\\u00fckh\\u00f6z\"],\"textposition\":\"top center\",\"type\":\"scatter\",\"x\":[8.64697265625,15.49207878112793,51.82249069213867,-29.621583938598633,29.63530158996582,47.990638732910156,-4.6708784103393555,-47.03730392456055,-20.178194046020508,-75.1606674194336,-0.7227876782417297,78.0816421508789,68.83235931396484,38.02286148071289,-25.505130767822266,65.17797088623047,55.13111877441406],\"xaxis\":\"x\",\"y\":[-43.304893493652344,10.765825271606445,38.702152252197266,-63.70505142211914,56.90531539916992,-6.713089466094971,1.0673091411590576,-24.773212432861328,-37.47974395751953,-14.229183197021484,-20.269983291625977,-73.92542266845703,-17.66017723083496,15.324405670166016,-12.619498252868652,-50.33638000488281,74.62248229980469],\"yaxis\":\"y\"},{\"customdata\":[[8,12,\"nem\",[\"nyit\\u00f3besz\\u00e9d\\u00e9ben\",\"pedofilellenes\",\",\",\"pedig\",\"gyermekv\\u00e9delmi\",\"t\\u00f6rv\\u00e9nycsomagk\\u00e9nt\"]],[14,18,\"nem\",[\"a\",\"Eurochild\",\"szerint\",\"v\\u00e9di\",\"a\",\"gyerekeket\"]],[20,3,\"nem\",[\"Az\",\"iskolai\",\"nevel\\u00e9s\",\"\\u00e1llhat\",\"ellent\\u00e9tben\",\"a\"]],[35,14,\"nem\",[\"szexualit\\u00e1s\",\"\\u00f6r\\u00f6mteli\",\"oldal\\u00e1ra\",\"igaz\\u00e1n\",\"f\\u00f3kusz\\u00e1l\\u00f3\",\"magyar\"]],[41,11,\"nem\",[\"v\\u00e9ve\",\"az\",\"iskol\\u00e1ban\",\"lehet\",\"tan\\u00edtani\",\"Rimbaud-t\"]],[51,10,\"nem\",[\"megfelel\\u0151\",\"\\u2013\",\"kezel\\u00e9se\",\"\\u00e9letszer\\u0171\",\"pedag\\u00f3giai\",\"szempontb\\u00f3l\"]],[74,40,\"nemcsak\",[\"magyar\",\"\\u00e1llam\",\"\\u201e\",\"garant\\u00e1lja\",\",\",\"hanem\"]],[4,32,\"nemi\",[\",\",\"hiszen\",\"a\",\"identit\\u00e1s\",\"\\u00e9s\",\"a\"]],[49,14,\"nemi\",[\"szexu\\u00e1lis\",\"orient\\u00e1ci\\u00f3j\\u00e1ban\",\",\",\"identit\\u00e1s\\u00e1ban\",\"k\\u00e9telked\\u0151\",\"gyerek\"]],[44,7,\"nemnek\",[\"\\u00e9s/vagy\",\"a\",\"sz\\u00fclet\\u00e9si\",\"megfelel\\u0151\",\"\\u00f6nazonoss\\u00e1gt\\u00f3l\",\"val\\u00f3\"]],[36,7,\"nemv\\u00e1lt\\u00e1s\",[\"homoszexualit\\u00e1s\",\"\\u00e9s\",\"a\",\"n\\u00e9pszer\\u0171s\\u00edt\\u00e9s\\u00e9t\",\"\\u00e9s\",\"megjelen\\u00edt\\u00e9s\\u00e9t\"]],[14,11,\"nemzetk\\u00f6zi\",[\",\",\"Eur\\u00f3pa\",\"legnagyobb\",\"gyermekjogi\",\"szervezete\",\",\"]]],\"hovertemplate\":\"context_label=0<br>tsne_context_x=%{x}<br>tsne_context_y=%{y}<br>word=%{customdata[2]}<br>sent_id=%{customdata[0]}<br>word_id=%{customdata[1]}<br>context=%{customdata[3]}<extra></extra>\",\"legendgroup\":\"0\",\"marker\":{\"color\":\"#EF553B\",\"symbol\":\"circle\"},\"mode\":\"markers+text\",\"name\":\"0\",\"orientation\":\"v\",\"showlegend\":true,\"text\":[\"nem\",\"nem\",\"nem\",\"nem\",\"nem\",\"nem\",\"nemcsak\",\"nemi\",\"nemi\",\"nemnek\",\"nemv\\u00e1lt\\u00e1s\",\"nemzetk\\u00f6zi\"],\"textposition\":\"top center\",\"type\":\"scatter\",\"x\":[-47.48276138305664,-26.15962028503418,-52.27437973022461,-70.70985412597656,-63.34712219238281,-28.514726638793945,-81.83039855957031,14.808868408203125,-19.333593368530273,-45.727935791015625,-2.4205572605133057,-9.492183685302734],\"xaxis\":\"x\",\"y\":[36.219268798828125,46.27295684814453,8.992243766784668,55.458648681640625,-48.35639190673828,13.640631675720215,21.31607437133789,34.803462982177734,74.52332305908203,70.26374053955078,54.28494644165039,26.62222671508789],\"yaxis\":\"y\"},{\"customdata\":[[21,24,\"nem\",[\"ker\\u00fcl\",\",\",\"\\u00e9s\",\"biztos\",\",\",\"hogy\"]],[24,1,\"nem\",[\"Arr\\u00f3l\",\"besz\\u00e9lve\",\",\",\"hogy\"]],[25,4,\"nem\",[\"sz\\u00fcl\\u0151k\",\",\",\"akik\",\"\\u00f6r\\u00fclnek\",\"annak\",\",\"]],[37,6,\"nem\",[\"ebbe\",\"\\u00e9s\",\"mi\",\"?\"]],[39,6,\"nem\",[\"am\\u00edg\",\"esetleg\",\"ki\",\"j\\u00f6n\",\"egy\",\",\"]],[53,8,\"nem\",[\"forgat\\u00f3k\\u00f6nyvnek\",\",\",\"hogy\",\"lesz\",\".\"]],[54,5,\"nem\",[\"elkenten\",\"megsz\\u00f6vegezett\",\"gumiszab\\u00e1ly\",\"csak\",\"arra\",\"lehet\"]],[76,18,\"nem\",[\",\",\"\\u00e9s\",\"ha\",\",\",\"akkor\",\"annak\"]],[79,5,\"nem\",[\"azt\",\"is\",\",\",\"s\\u00e9rti\",\"-e\",\"az\"]],[65,11,\"nemzetk\\u00f6zi\",[\"most\",\"el\\u00e9g\",\"nagy\",\"botr\\u00e1ny\",\"lett\",\".\"]]],\"hovertemplate\":\"context_label=2<br>tsne_context_x=%{x}<br>tsne_context_y=%{y}<br>word=%{customdata[2]}<br>sent_id=%{customdata[0]}<br>word_id=%{customdata[1]}<br>context=%{customdata[3]}<extra></extra>\",\"legendgroup\":\"2\",\"marker\":{\"color\":\"#00cc96\",\"symbol\":\"circle\"},\"mode\":\"markers+text\",\"name\":\"2\",\"orientation\":\"v\",\"showlegend\":true,\"text\":[\"nem\",\"nem\",\"nem\",\"nem\",\"nem\",\"nem\",\"nem\",\"nem\",\"nem\",\"nemzetk\\u00f6zi\"],\"textposition\":\"top center\",\"type\":\"scatter\",\"x\":[97.25149536132812,40.58692169189453,33.86932373046875,1.6024787425994873,101.78497314453125,87.47293853759766,21.388473510742188,42.038482666015625,21.79297637939453,70.92212677001953],\"xaxis\":\"x\",\"y\":[-35.144351959228516,-89.71371459960938,-55.98733139038086,-79.00934600830078,-1.24626886844635,35.64914321899414,-14.573095321655273,-29.832197189331055,96.86688232421875,9.79646110534668],\"yaxis\":\"y\"}],                        {\"height\":800,\"legend\":{\"title\":{\"text\":\"context_label\"},\"tracegroupgap\":0},\"margin\":{\"t\":60},\"template\":{\"data\":{\"bar\":[{\"error_x\":{\"color\":\"#2a3f5f\"},\"error_y\":{\"color\":\"#2a3f5f\"},\"marker\":{\"line\":{\"color\":\"#E5ECF6\",\"width\":0.5},\"pattern\":{\"fillmode\":\"overlay\",\"size\":10,\"solidity\":0.2}},\"type\":\"bar\"}],\"barpolar\":[{\"marker\":{\"line\":{\"color\":\"#E5ECF6\",\"width\":0.5},\"pattern\":{\"fillmode\":\"overlay\",\"size\":10,\"solidity\":0.2}},\"type\":\"barpolar\"}],\"carpet\":[{\"aaxis\":{\"endlinecolor\":\"#2a3f5f\",\"gridcolor\":\"white\",\"linecolor\":\"white\",\"minorgridcolor\":\"white\",\"startlinecolor\":\"#2a3f5f\"},\"baxis\":{\"endlinecolor\":\"#2a3f5f\",\"gridcolor\":\"white\",\"linecolor\":\"white\",\"minorgridcolor\":\"white\",\"startlinecolor\":\"#2a3f5f\"},\"type\":\"carpet\"}],\"choropleth\":[{\"colorbar\":{\"outlinewidth\":0,\"ticks\":\"\"},\"type\":\"choropleth\"}],\"contour\":[{\"colorbar\":{\"outlinewidth\":0,\"ticks\":\"\"},\"colorscale\":[[0.0,\"#0d0887\"],[0.1111111111111111,\"#46039f\"],[0.2222222222222222,\"#7201a8\"],[0.3333333333333333,\"#9c179e\"],[0.4444444444444444,\"#bd3786\"],[0.5555555555555556,\"#d8576b\"],[0.6666666666666666,\"#ed7953\"],[0.7777777777777778,\"#fb9f3a\"],[0.8888888888888888,\"#fdca26\"],[1.0,\"#f0f921\"]],\"type\":\"contour\"}],\"contourcarpet\":[{\"colorbar\":{\"outlinewidth\":0,\"ticks\":\"\"},\"type\":\"contourcarpet\"}],\"heatmap\":[{\"colorbar\":{\"outlinewidth\":0,\"ticks\":\"\"},\"colorscale\":[[0.0,\"#0d0887\"],[0.1111111111111111,\"#46039f\"],[0.2222222222222222,\"#7201a8\"],[0.3333333333333333,\"#9c179e\"],[0.4444444444444444,\"#bd3786\"],[0.5555555555555556,\"#d8576b\"],[0.6666666666666666,\"#ed7953\"],[0.7777777777777778,\"#fb9f3a\"],[0.8888888888888888,\"#fdca26\"],[1.0,\"#f0f921\"]],\"type\":\"heatmap\"}],\"heatmapgl\":[{\"colorbar\":{\"outlinewidth\":0,\"ticks\":\"\"},\"colorscale\":[[0.0,\"#0d0887\"],[0.1111111111111111,\"#46039f\"],[0.2222222222222222,\"#7201a8\"],[0.3333333333333333,\"#9c179e\"],[0.4444444444444444,\"#bd3786\"],[0.5555555555555556,\"#d8576b\"],[0.6666666666666666,\"#ed7953\"],[0.7777777777777778,\"#fb9f3a\"],[0.8888888888888888,\"#fdca26\"],[1.0,\"#f0f921\"]],\"type\":\"heatmapgl\"}],\"histogram\":[{\"marker\":{\"pattern\":{\"fillmode\":\"overlay\",\"size\":10,\"solidity\":0.2}},\"type\":\"histogram\"}],\"histogram2d\":[{\"colorbar\":{\"outlinewidth\":0,\"ticks\":\"\"},\"colorscale\":[[0.0,\"#0d0887\"],[0.1111111111111111,\"#46039f\"],[0.2222222222222222,\"#7201a8\"],[0.3333333333333333,\"#9c179e\"],[0.4444444444444444,\"#bd3786\"],[0.5555555555555556,\"#d8576b\"],[0.6666666666666666,\"#ed7953\"],[0.7777777777777778,\"#fb9f3a\"],[0.8888888888888888,\"#fdca26\"],[1.0,\"#f0f921\"]],\"type\":\"histogram2d\"}],\"histogram2dcontour\":[{\"colorbar\":{\"outlinewidth\":0,\"ticks\":\"\"},\"colorscale\":[[0.0,\"#0d0887\"],[0.1111111111111111,\"#46039f\"],[0.2222222222222222,\"#7201a8\"],[0.3333333333333333,\"#9c179e\"],[0.4444444444444444,\"#bd3786\"],[0.5555555555555556,\"#d8576b\"],[0.6666666666666666,\"#ed7953\"],[0.7777777777777778,\"#fb9f3a\"],[0.8888888888888888,\"#fdca26\"],[1.0,\"#f0f921\"]],\"type\":\"histogram2dcontour\"}],\"mesh3d\":[{\"colorbar\":{\"outlinewidth\":0,\"ticks\":\"\"},\"type\":\"mesh3d\"}],\"parcoords\":[{\"line\":{\"colorbar\":{\"outlinewidth\":0,\"ticks\":\"\"}},\"type\":\"parcoords\"}],\"pie\":[{\"automargin\":true,\"type\":\"pie\"}],\"scatter\":[{\"marker\":{\"colorbar\":{\"outlinewidth\":0,\"ticks\":\"\"}},\"type\":\"scatter\"}],\"scatter3d\":[{\"line\":{\"colorbar\":{\"outlinewidth\":0,\"ticks\":\"\"}},\"marker\":{\"colorbar\":{\"outlinewidth\":0,\"ticks\":\"\"}},\"type\":\"scatter3d\"}],\"scattercarpet\":[{\"marker\":{\"colorbar\":{\"outlinewidth\":0,\"ticks\":\"\"}},\"type\":\"scattercarpet\"}],\"scattergeo\":[{\"marker\":{\"colorbar\":{\"outlinewidth\":0,\"ticks\":\"\"}},\"type\":\"scattergeo\"}],\"scattergl\":[{\"marker\":{\"colorbar\":{\"outlinewidth\":0,\"ticks\":\"\"}},\"type\":\"scattergl\"}],\"scattermapbox\":[{\"marker\":{\"colorbar\":{\"outlinewidth\":0,\"ticks\":\"\"}},\"type\":\"scattermapbox\"}],\"scatterpolar\":[{\"marker\":{\"colorbar\":{\"outlinewidth\":0,\"ticks\":\"\"}},\"type\":\"scatterpolar\"}],\"scatterpolargl\":[{\"marker\":{\"colorbar\":{\"outlinewidth\":0,\"ticks\":\"\"}},\"type\":\"scatterpolargl\"}],\"scatterternary\":[{\"marker\":{\"colorbar\":{\"outlinewidth\":0,\"ticks\":\"\"}},\"type\":\"scatterternary\"}],\"surface\":[{\"colorbar\":{\"outlinewidth\":0,\"ticks\":\"\"},\"colorscale\":[[0.0,\"#0d0887\"],[0.1111111111111111,\"#46039f\"],[0.2222222222222222,\"#7201a8\"],[0.3333333333333333,\"#9c179e\"],[0.4444444444444444,\"#bd3786\"],[0.5555555555555556,\"#d8576b\"],[0.6666666666666666,\"#ed7953\"],[0.7777777777777778,\"#fb9f3a\"],[0.8888888888888888,\"#fdca26\"],[1.0,\"#f0f921\"]],\"type\":\"surface\"}],\"table\":[{\"cells\":{\"fill\":{\"color\":\"#EBF0F8\"},\"line\":{\"color\":\"white\"}},\"header\":{\"fill\":{\"color\":\"#C8D4E3\"},\"line\":{\"color\":\"white\"}},\"type\":\"table\"}]},\"layout\":{\"annotationdefaults\":{\"arrowcolor\":\"#2a3f5f\",\"arrowhead\":0,\"arrowwidth\":1},\"autotypenumbers\":\"strict\",\"coloraxis\":{\"colorbar\":{\"outlinewidth\":0,\"ticks\":\"\"}},\"colorscale\":{\"diverging\":[[0,\"#8e0152\"],[0.1,\"#c51b7d\"],[0.2,\"#de77ae\"],[0.3,\"#f1b6da\"],[0.4,\"#fde0ef\"],[0.5,\"#f7f7f7\"],[0.6,\"#e6f5d0\"],[0.7,\"#b8e186\"],[0.8,\"#7fbc41\"],[0.9,\"#4d9221\"],[1,\"#276419\"]],\"sequential\":[[0.0,\"#0d0887\"],[0.1111111111111111,\"#46039f\"],[0.2222222222222222,\"#7201a8\"],[0.3333333333333333,\"#9c179e\"],[0.4444444444444444,\"#bd3786\"],[0.5555555555555556,\"#d8576b\"],[0.6666666666666666,\"#ed7953\"],[0.7777777777777778,\"#fb9f3a\"],[0.8888888888888888,\"#fdca26\"],[1.0,\"#f0f921\"]],\"sequentialminus\":[[0.0,\"#0d0887\"],[0.1111111111111111,\"#46039f\"],[0.2222222222222222,\"#7201a8\"],[0.3333333333333333,\"#9c179e\"],[0.4444444444444444,\"#bd3786\"],[0.5555555555555556,\"#d8576b\"],[0.6666666666666666,\"#ed7953\"],[0.7777777777777778,\"#fb9f3a\"],[0.8888888888888888,\"#fdca26\"],[1.0,\"#f0f921\"]]},\"colorway\":[\"#636efa\",\"#EF553B\",\"#00cc96\",\"#ab63fa\",\"#FFA15A\",\"#19d3f3\",\"#FF6692\",\"#B6E880\",\"#FF97FF\",\"#FECB52\"],\"font\":{\"color\":\"#2a3f5f\"},\"geo\":{\"bgcolor\":\"white\",\"lakecolor\":\"white\",\"landcolor\":\"#E5ECF6\",\"showlakes\":true,\"showland\":true,\"subunitcolor\":\"white\"},\"hoverlabel\":{\"align\":\"left\"},\"hovermode\":\"closest\",\"mapbox\":{\"style\":\"light\"},\"paper_bgcolor\":\"white\",\"plot_bgcolor\":\"#E5ECF6\",\"polar\":{\"angularaxis\":{\"gridcolor\":\"white\",\"linecolor\":\"white\",\"ticks\":\"\"},\"bgcolor\":\"#E5ECF6\",\"radialaxis\":{\"gridcolor\":\"white\",\"linecolor\":\"white\",\"ticks\":\"\"}},\"scene\":{\"xaxis\":{\"backgroundcolor\":\"#E5ECF6\",\"gridcolor\":\"white\",\"gridwidth\":2,\"linecolor\":\"white\",\"showbackground\":true,\"ticks\":\"\",\"zerolinecolor\":\"white\"},\"yaxis\":{\"backgroundcolor\":\"#E5ECF6\",\"gridcolor\":\"white\",\"gridwidth\":2,\"linecolor\":\"white\",\"showbackground\":true,\"ticks\":\"\",\"zerolinecolor\":\"white\"},\"zaxis\":{\"backgroundcolor\":\"#E5ECF6\",\"gridcolor\":\"white\",\"gridwidth\":2,\"linecolor\":\"white\",\"showbackground\":true,\"ticks\":\"\",\"zerolinecolor\":\"white\"}},\"shapedefaults\":{\"line\":{\"color\":\"#2a3f5f\"}},\"ternary\":{\"aaxis\":{\"gridcolor\":\"white\",\"linecolor\":\"white\",\"ticks\":\"\"},\"baxis\":{\"gridcolor\":\"white\",\"linecolor\":\"white\",\"ticks\":\"\"},\"bgcolor\":\"#E5ECF6\",\"caxis\":{\"gridcolor\":\"white\",\"linecolor\":\"white\",\"ticks\":\"\"}},\"title\":{\"x\":0.05},\"xaxis\":{\"automargin\":true,\"gridcolor\":\"white\",\"linecolor\":\"white\",\"ticks\":\"\",\"title\":{\"standoff\":15},\"zerolinecolor\":\"white\",\"zerolinewidth\":2},\"yaxis\":{\"automargin\":true,\"gridcolor\":\"white\",\"linecolor\":\"white\",\"ticks\":\"\",\"title\":{\"standoff\":15},\"zerolinecolor\":\"white\",\"zerolinewidth\":2}}},\"width\":800,\"xaxis\":{\"anchor\":\"y\",\"domain\":[0.0,1.0],\"title\":{\"text\":\"tsne_context_x\"}},\"yaxis\":{\"anchor\":\"x\",\"domain\":[0.0,1.0],\"title\":{\"text\":\"tsne_context_y\"}}},                        {\"responsive\": true}                    ).then(function(){\n",
       "                            \n",
       "var gd = document.getElementById('9d5c302a-9011-451a-89c7-ea8c1ccb3a99');\n",
       "var x = new MutationObserver(function (mutations, observer) {{\n",
       "        var display = window.getComputedStyle(gd).display;\n",
       "        if (!display || display === 'none') {{\n",
       "            console.log([gd, 'removed!']);\n",
       "            Plotly.purge(gd);\n",
       "            observer.disconnect();\n",
       "        }}\n",
       "}});\n",
       "\n",
       "// Listen for the removal of the full notebook cells\n",
       "var notebookContainer = gd.closest('#notebook-container');\n",
       "if (notebookContainer) {{\n",
       "    x.observe(notebookContainer, {childList: true});\n",
       "}}\n",
       "\n",
       "// Listen for the clearing of the current output cell\n",
       "var outputEl = gd.closest('.output');\n",
       "if (outputEl) {{\n",
       "    x.observe(outputEl, {childList: true});\n",
       "}}\n",
       "\n",
       "                        })                };                });            </script>        </div>"
      ]
     },
     "metadata": {},
     "output_type": "display_data"
    }
   ],
   "source": [
    "fig = px.scatter(data_frame = df, x='tsne_context_x', y='tsne_context_y', color='context_label', hover_data=['sent_id', 'word_id', 'word', 'context'], text='word', width=800, height=800)\n",
    "\n",
    "fig.update_traces(textposition='top center')\n",
    "\n",
    "\n",
    "fig.show()\n"
   ]
  },
  {
   "cell_type": "code",
   "execution_count": 177,
   "id": "06d410b8-b26e-4e29-b4f4-6151068ff074",
   "metadata": {},
   "outputs": [
    {
     "data": {
      "text/plain": [
       "{'input_ids': tensor([[    2, 13083,  2094,  2218,  2105, 31741,  2163,  5266,  2422, 31388,\n",
       "          2091,  2114,  2005,  9834,  6120,  8029,  2034, 12118,  4883,  4779,\n",
       "          4729, 30193,  5539, 12876,  3646, 17559, 31744, 19820, 27465,  8595,\n",
       "          5247,  5189, 31749,  3576,  2788, 10620,  2094,  2066,  2005,  5039,\n",
       "          2249, 15592, 31739,  3408,  2111,  2024, 26507,  2114, 10979,  3119,\n",
       "          9686,  2964, 16902,  2052,  2005, 10369,  4575,     3]]), 'token_type_ids': tensor([[0, 0, 0, 0, 0, 0, 0, 0, 0, 0, 0, 0, 0, 0, 0, 0, 0, 0, 0, 0, 0, 0, 0, 0,\n",
       "         0, 0, 0, 0, 0, 0, 0, 0, 0, 0, 0, 0, 0, 0, 0, 0, 0, 0, 0, 0, 0, 0, 0, 0,\n",
       "         0, 0, 0, 0, 0, 0, 0, 0, 0, 0]]), 'attention_mask': tensor([[1, 1, 1, 1, 1, 1, 1, 1, 1, 1, 1, 1, 1, 1, 1, 1, 1, 1, 1, 1, 1, 1, 1, 1,\n",
       "         1, 1, 1, 1, 1, 1, 1, 1, 1, 1, 1, 1, 1, 1, 1, 1, 1, 1, 1, 1, 1, 1, 1, 1,\n",
       "         1, 1, 1, 1, 1, 1, 1, 1, 1, 1]])}"
      ]
     },
     "execution_count": 177,
     "metadata": {},
     "output_type": "execute_result"
    }
   ],
   "source": [
    "tokenizer(corpus[0], return_tensors='pt')"
   ]
  },
  {
   "cell_type": "code",
   "execution_count": 137,
   "id": "fe0d9a98-ab01-49d0-b244-a20c1ba07f53",
   "metadata": {},
   "outputs": [],
   "source": []
  },
  {
   "cell_type": "code",
   "execution_count": null,
   "id": "c94e67cc-5ebb-43f8-84ea-e59e356b12eb",
   "metadata": {},
   "outputs": [],
   "source": []
  }
 ],
 "metadata": {
  "kernelspec": {
   "display_name": "Python 3",
   "language": "python",
   "name": "python3"
  },
  "language_info": {
   "codemirror_mode": {
    "name": "ipython",
    "version": 3
   },
   "file_extension": ".py",
   "mimetype": "text/x-python",
   "name": "python",
   "nbconvert_exporter": "python",
   "pygments_lexer": "ipython3",
   "version": "3.9.0"
  }
 },
 "nbformat": 4,
 "nbformat_minor": 5
}
